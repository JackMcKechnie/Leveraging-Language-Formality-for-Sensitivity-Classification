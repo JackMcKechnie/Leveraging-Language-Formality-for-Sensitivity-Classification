{
 "cells": [
  {
   "cell_type": "code",
   "execution_count": 1,
   "metadata": {},
   "outputs": [],
   "source": [
    "# Imports \n",
    "import pandas as pd\n",
    "import numpy as np\n",
    "from sklearn.model_selection import train_test_split\n",
    "import tensorflow as tf\n",
    "import tensorflow_hub as hub\n",
    "import tensorflow_text as text\n",
    "from keras import backend as K\n",
    "import matplotlib.pyplot as plt "
   ]
  },
  {
   "cell_type": "code",
   "execution_count": 2,
   "metadata": {},
   "outputs": [],
   "source": [
    "# Import data\n",
    "data = pd.read_csv(\"../../../data/mturk_experiment_2.csv\",encoding='unicode_escape')\n",
    "labels = data[\"Formality\"]\n",
    "samples = data[\"Sentence\"]\n",
    "\n",
    "# Testing with 90% training data\n",
    "train_samples, test_samples, train_labels,test_labels = train_test_split(samples, labels, test_size=0.2,random_state=5)\n",
    "\n",
    "train_samples = np.array(train_samples)\n",
    "test_samples = np.array(test_samples)\n",
    "train_labels = np.array(train_labels)\n",
    "test_labels = np.array(test_labels)"
   ]
  },
  {
   "cell_type": "code",
   "execution_count": 3,
   "metadata": {},
   "outputs": [
    {
     "name": "stdout",
     "output_type": "stream",
     "text": [
      "Model: \"model\"\n",
      "__________________________________________________________________________________________________\n",
      "Layer (type)                    Output Shape         Param #     Connected to                     \n",
      "==================================================================================================\n",
      "text (InputLayer)               [(None,)]            0                                            \n",
      "__________________________________________________________________________________________________\n",
      "preprocessing (KerasLayer)      {'input_type_ids': ( 0           text[0][0]                       \n",
      "__________________________________________________________________________________________________\n",
      "BERT_encoder (KerasLayer)       {'encoder_outputs':  108310273   preprocessing[0][0]              \n",
      "                                                                 preprocessing[0][1]              \n",
      "                                                                 preprocessing[0][2]              \n",
      "__________________________________________________________________________________________________\n",
      "tf.reshape (TFOpLambda)         (None, 768, 1)       0           BERT_encoder[0][13]              \n",
      "__________________________________________________________________________________________________\n",
      "lstm (LSTM)                     (None, 768, 512)     1052672     tf.reshape[0][0]                 \n",
      "__________________________________________________________________________________________________\n",
      "peel_the_layer (peel_the_layer) ((None, 768, 1), (No 1280        lstm[0][0]                       \n",
      "__________________________________________________________________________________________________\n",
      "dense (Dense)                   (None, 1)            513         peel_the_layer[0][1]             \n",
      "==================================================================================================\n",
      "Total params: 109,364,738\n",
      "Trainable params: 109,364,737\n",
      "Non-trainable params: 1\n",
      "__________________________________________________________________________________________________\n"
     ]
    }
   ],
   "source": [
    "# Model setup\n",
    "\n",
    "# Attention layer\n",
    "class peel_the_layer(tf.keras.layers.Layer): \n",
    "\n",
    "    def __init__(self):    \n",
    "        ##Nothing special to be done here\n",
    "        super(peel_the_layer, self).__init__()\n",
    "\n",
    "    def build(self, input_shape):\n",
    "        ##Define the shape of the weights and bias in this layer\n",
    "        ##This is a 1 unit layer. \n",
    "        units=1\n",
    "        ##last index of the input_shape is the number of dimensions of the prev\n",
    "        ##RNN layer. last but 1 index is the num of timesteps\n",
    "        self.w=self.add_weight(name=\"att_weights\", shape=(input_shape[-1], units), initializer=\"normal\") #name property is useful for avoiding RuntimeError: Unable to create link.\n",
    "        self.b=self.add_weight(name=\"att_bias\", shape=(input_shape[-2], units), initializer=\"zeros\")\n",
    "        super(peel_the_layer,self).build(input_shape)\n",
    "\n",
    "    def call(self, x):\n",
    "        ##x is the input tensor..each word that needs to be attended to\n",
    "        ##Below is the main processing done during training\n",
    "        ##K is the Keras Backend import\n",
    "        e = K.tanh(K.dot(x,self.w)+self.b)\n",
    "        a = K.softmax(e, axis=1)\n",
    "        output = x*a\n",
    "\n",
    "        ##return the ouputs. 'a' is the set of attention weights\n",
    "        ##the second variable is the 'attention adjusted o/p state' or context\n",
    "        return a, K.sum(output, axis=1)\n",
    "\n",
    "bert_model_name = 'small_bert/bert_en_uncased_L-4_H-512_A-8' \n",
    "\n",
    "tfhub_handle_encoder = 'https://tfhub.dev/tensorflow/bert_en_cased_L-12_H-768_A-12/3'\n",
    "tfhub_handle_preprocess =   'https://tfhub.dev/tensorflow/bert_en_cased_preprocess/3'\n",
    "bert_preprocess_model = hub.KerasLayer(tfhub_handle_preprocess)\n",
    "bert_model = hub.KerasLayer(tfhub_handle_encoder)\n",
    "\n",
    "text_input = tf.keras.layers.Input(shape=(), dtype=tf.string, name='text')\n",
    "preprocessing_layer = hub.KerasLayer(tfhub_handle_preprocess, name='preprocessing')\n",
    "encoder_inputs = preprocessing_layer(text_input)\n",
    "encoder = hub.KerasLayer(tfhub_handle_encoder, trainable=True, name='BERT_encoder')\n",
    "outputs = encoder(encoder_inputs)\n",
    "net = outputs['pooled_output']\n",
    "reshaped = tf.reshape(net,[-1, 768, 1])\n",
    "lstm = tf.keras.layers.LSTM(512,return_sequences=True)(reshaped)\n",
    "a, context = peel_the_layer()(lstm)\n",
    "\n",
    "dense = tf.keras.layers.Dense(1)(context)\n",
    "model = tf.keras.Model(text_input, dense)\n",
    "model.summary()\n",
    "\n",
    "loss = 'mse'\n",
    "metrics = [tf.keras.metrics.MeanSquaredError(),tf.keras.losses.MeanAbsoluteError(),tf.keras.losses.MeanAbsolutePercentageError()]\n",
    "optimiser = tf.optimizers.Adam(learning_rate= 5e-5)\n",
    "\n",
    "model.compile(optimizer=optimiser, loss=loss, metrics=metrics)"
   ]
  },
  {
   "cell_type": "code",
   "execution_count": 4,
   "metadata": {},
   "outputs": [],
   "source": [
    "# Results setup\n",
    "\n",
    "results = pd.DataFrame()"
   ]
  },
  {
   "cell_type": "code",
   "execution_count": 5,
   "metadata": {},
   "outputs": [],
   "source": [
    "def train_test(model, epochs, batch_size, results):\n",
    "    callback = tf.keras.callbacks.EarlyStopping(monitor='loss', patience=3)\n",
    "    history = model.fit(x=train_samples,y=train_labels,batch_size=batch_size,epochs=epochs,verbose=2,callbacks=[callback])\n",
    "\n",
    "    scores = model.evaluate(x=test_samples,y=test_labels)\n",
    "    model_label = \"Epochs - \" + str(epochs) + \" Batch Size - \" + str(batch_size)\n",
    "\n",
    "    results[model_label] = scores[1:]\n",
    "\n",
    "    mse = history.history['mean_squared_error']\n",
    "    mae = history.history['mean_absolute_error']\n",
    "    mpe = history.history['mean_absolute_percentage_error']\n",
    "\n",
    "    plt.plot(mse)\n",
    "    #plt.plot(mae)\n",
    "    #plt.plot(mpe)\n",
    "    plt.title(\"Model: \" + model_label)\n",
    "    plt.ylabel('MSE')\n",
    "    plt.xlabel('Epoch')\n",
    "    #plt.legend(['MSE'], loc='upper right')\n",
    "\n",
    "    #ymax = max([mse,mae])\n",
    "    #ymax = max(ymax) + 1\n",
    "    #plt.ylim(top=ymax)\n",
    "    plt.ylim(bottom=0)\n",
    "    plt.savefig(model_label + \".jpeg\",dpi=100,bbox_inches='tight')\n",
    "\n",
    "    return results"
   ]
  },
  {
   "cell_type": "code",
   "execution_count": 6,
   "metadata": {},
   "outputs": [
    {
     "name": "stdout",
     "output_type": "stream",
     "text": [
      "176/176 - 3002s - loss: 3.7057 - mean_squared_error: 3.7057 - mean_absolute_error: 1.3171 - mean_absolute_percentage_error: 34.5654\n",
      "44/44 [==============================] - 222s 5s/step - loss: 0.5172 - mean_squared_error: 0.5172 - mean_absolute_error: 0.5799 - mean_absolute_percentage_error: 16.4654\n",
      "88/88 - 3743s - loss: 0.4461 - mean_squared_error: 0.4461 - mean_absolute_error: 0.5310 - mean_absolute_percentage_error: 14.7997\n",
      "44/44 [==============================] - 224s 5s/step - loss: 0.4860 - mean_squared_error: 0.4860 - mean_absolute_error: 0.5595 - mean_absolute_percentage_error: 16.5231\n"
     ]
    },
    {
     "data": {
      "text/html": [
       "<div>\n",
       "<style scoped>\n",
       "    .dataframe tbody tr th:only-of-type {\n",
       "        vertical-align: middle;\n",
       "    }\n",
       "\n",
       "    .dataframe tbody tr th {\n",
       "        vertical-align: top;\n",
       "    }\n",
       "\n",
       "    .dataframe thead th {\n",
       "        text-align: right;\n",
       "    }\n",
       "</style>\n",
       "<table border=\"1\" class=\"dataframe\">\n",
       "  <thead>\n",
       "    <tr style=\"text-align: right;\">\n",
       "      <th></th>\n",
       "      <th>0</th>\n",
       "      <th>1</th>\n",
       "      <th>2</th>\n",
       "    </tr>\n",
       "  </thead>\n",
       "  <tbody>\n",
       "    <tr>\n",
       "      <th>Epochs - 1 Batch Size - 32</th>\n",
       "      <td>0.51719</td>\n",
       "      <td>0.579882</td>\n",
       "      <td>16.465361</td>\n",
       "    </tr>\n",
       "    <tr>\n",
       "      <th>Epochs - 1 Batch Size - 64</th>\n",
       "      <td>0.48598</td>\n",
       "      <td>0.559536</td>\n",
       "      <td>16.523079</td>\n",
       "    </tr>\n",
       "  </tbody>\n",
       "</table>\n",
       "</div>"
      ],
      "text/plain": [
       "                                  0         1          2\n",
       "Epochs - 1 Batch Size - 32  0.51719  0.579882  16.465361\n",
       "Epochs - 1 Batch Size - 64  0.48598  0.559536  16.523079"
      ]
     },
     "execution_count": 6,
     "metadata": {},
     "output_type": "execute_result"
    },
    {
     "data": {
      "image/png": "[encoded data removed]",
      "text/plain": [
       "<Figure size 432x288 with 1 Axes>"
      ]
     },
     "metadata": {
      "needs_background": "light"
     },
     "output_type": "display_data"
    }
   ],
   "source": [
    "results = train_test(model,1,32,results)\n",
    "results = train_test(model,1,64,results)\n",
    "results.T"
   ]
  },
  {
   "cell_type": "code",
   "execution_count": 7,
   "metadata": {},
   "outputs": [
    {
     "name": "stdout",
     "output_type": "stream",
     "text": [
      "Epoch 1/2\n",
      "176/176 - 3021s - loss: 0.3696 - mean_squared_error: 0.3696 - mean_absolute_error: 0.4818 - mean_absolute_percentage_error: 13.3224\n",
      "Epoch 2/2\n",
      "176/176 - 2974s - loss: 0.2140 - mean_squared_error: 0.2140 - mean_absolute_error: 0.3642 - mean_absolute_percentage_error: 9.9468\n",
      "44/44 [==============================] - 223s 5s/step - loss: 0.5593 - mean_squared_error: 0.5593 - mean_absolute_error: 0.5938 - mean_absolute_percentage_error: 17.3299\n",
      "Epoch 1/2\n",
      "88/88 - 3897s - loss: 0.1147 - mean_squared_error: 0.1147 - mean_absolute_error: 0.2627 - mean_absolute_percentage_error: 7.1397\n",
      "Epoch 2/2\n",
      "88/88 - 4034s - loss: 0.0676 - mean_squared_error: 0.0676 - mean_absolute_error: 0.1996 - mean_absolute_percentage_error: 5.4415\n",
      "44/44 [==============================] - 224s 5s/step - loss: 0.4905 - mean_squared_error: 0.4905 - mean_absolute_error: 0.5616 - mean_absolute_percentage_error: 16.0450\n"
     ]
    },
    {
     "data": {
      "text/html": [
       "<div>\n",
       "<style scoped>\n",
       "    .dataframe tbody tr th:only-of-type {\n",
       "        vertical-align: middle;\n",
       "    }\n",
       "\n",
       "    .dataframe tbody tr th {\n",
       "        vertical-align: top;\n",
       "    }\n",
       "\n",
       "    .dataframe thead th {\n",
       "        text-align: right;\n",
       "    }\n",
       "</style>\n",
       "<table border=\"1\" class=\"dataframe\">\n",
       "  <thead>\n",
       "    <tr style=\"text-align: right;\">\n",
       "      <th></th>\n",
       "      <th>0</th>\n",
       "      <th>1</th>\n",
       "      <th>2</th>\n",
       "    </tr>\n",
       "  </thead>\n",
       "  <tbody>\n",
       "    <tr>\n",
       "      <th>Epochs - 1 Batch Size - 32</th>\n",
       "      <td>0.517190</td>\n",
       "      <td>0.579882</td>\n",
       "      <td>16.465361</td>\n",
       "    </tr>\n",
       "    <tr>\n",
       "      <th>Epochs - 1 Batch Size - 64</th>\n",
       "      <td>0.485980</td>\n",
       "      <td>0.559536</td>\n",
       "      <td>16.523079</td>\n",
       "    </tr>\n",
       "    <tr>\n",
       "      <th>Epochs - 2 Batch Size - 32</th>\n",
       "      <td>0.559299</td>\n",
       "      <td>0.593793</td>\n",
       "      <td>17.329901</td>\n",
       "    </tr>\n",
       "    <tr>\n",
       "      <th>Epochs - 2 Batch Size - 64</th>\n",
       "      <td>0.490477</td>\n",
       "      <td>0.561553</td>\n",
       "      <td>16.044975</td>\n",
       "    </tr>\n",
       "  </tbody>\n",
       "</table>\n",
       "</div>"
      ],
      "text/plain": [
       "                                   0         1          2\n",
       "Epochs - 1 Batch Size - 32  0.517190  0.579882  16.465361\n",
       "Epochs - 1 Batch Size - 64  0.485980  0.559536  16.523079\n",
       "Epochs - 2 Batch Size - 32  0.559299  0.593793  17.329901\n",
       "Epochs - 2 Batch Size - 64  0.490477  0.561553  16.044975"
      ]
     },
     "execution_count": 7,
     "metadata": {},
     "output_type": "execute_result"
    },
    {
     "data": {
      "image/png": "[encoded data removed]",
      "text/plain": [
       "<Figure size 432x288 with 1 Axes>"
      ]
     },
     "metadata": {
      "needs_background": "light"
     },
     "output_type": "display_data"
    }
   ],
   "source": [
    "results = train_test(model,2,32,results)\n",
    "results = train_test(model,2,64,results)\n",
    "results.T"
   ]
  },
  {
   "cell_type": "code",
   "execution_count": 8,
   "metadata": {},
   "outputs": [
    {
     "name": "stdout",
     "output_type": "stream",
     "text": [
      "Epoch 1/3\n",
      "176/176 - 3018s - loss: 0.0553 - mean_squared_error: 0.0553 - mean_absolute_error: 0.1819 - mean_absolute_percentage_error: 4.9845\n",
      "Epoch 2/3\n",
      "176/176 - 2983s - loss: 0.0680 - mean_squared_error: 0.0680 - mean_absolute_error: 0.2058 - mean_absolute_percentage_error: 5.6235\n",
      "Epoch 3/3\n",
      "176/176 - 2947s - loss: 0.0564 - mean_squared_error: 0.0564 - mean_absolute_error: 0.1863 - mean_absolute_percentage_error: 5.1012\n",
      "44/44 [==============================] - 221s 5s/step - loss: 0.5157 - mean_squared_error: 0.5157 - mean_absolute_error: 0.5777 - mean_absolute_percentage_error: 15.8101\n",
      "Epoch 1/3\n",
      "88/88 - 4045s - loss: 0.0346 - mean_squared_error: 0.0346 - mean_absolute_error: 0.1452 - mean_absolute_percentage_error: 3.9866\n",
      "Epoch 2/3\n",
      "88/88 - 4353s - loss: 0.0218 - mean_squared_error: 0.0218 - mean_absolute_error: 0.1157 - mean_absolute_percentage_error: 3.1785\n",
      "Epoch 3/3\n",
      "88/88 - 4162s - loss: 0.0165 - mean_squared_error: 0.0165 - mean_absolute_error: 0.1002 - mean_absolute_percentage_error: 2.7764\n",
      "44/44 [==============================] - 226s 5s/step - loss: 0.4767 - mean_squared_error: 0.4767 - mean_absolute_error: 0.5544 - mean_absolute_percentage_error: 15.6150\n"
     ]
    },
    {
     "data": {
      "text/html": [
       "<div>\n",
       "<style scoped>\n",
       "    .dataframe tbody tr th:only-of-type {\n",
       "        vertical-align: middle;\n",
       "    }\n",
       "\n",
       "    .dataframe tbody tr th {\n",
       "        vertical-align: top;\n",
       "    }\n",
       "\n",
       "    .dataframe thead th {\n",
       "        text-align: right;\n",
       "    }\n",
       "</style>\n",
       "<table border=\"1\" class=\"dataframe\">\n",
       "  <thead>\n",
       "    <tr style=\"text-align: right;\">\n",
       "      <th></th>\n",
       "      <th>0</th>\n",
       "      <th>1</th>\n",
       "      <th>2</th>\n",
       "    </tr>\n",
       "  </thead>\n",
       "  <tbody>\n",
       "    <tr>\n",
       "      <th>Epochs - 1 Batch Size - 32</th>\n",
       "      <td>0.517190</td>\n",
       "      <td>0.579882</td>\n",
       "      <td>16.465361</td>\n",
       "    </tr>\n",
       "    <tr>\n",
       "      <th>Epochs - 1 Batch Size - 64</th>\n",
       "      <td>0.485980</td>\n",
       "      <td>0.559536</td>\n",
       "      <td>16.523079</td>\n",
       "    </tr>\n",
       "    <tr>\n",
       "      <th>Epochs - 2 Batch Size - 32</th>\n",
       "      <td>0.559299</td>\n",
       "      <td>0.593793</td>\n",
       "      <td>17.329901</td>\n",
       "    </tr>\n",
       "    <tr>\n",
       "      <th>Epochs - 2 Batch Size - 64</th>\n",
       "      <td>0.490477</td>\n",
       "      <td>0.561553</td>\n",
       "      <td>16.044975</td>\n",
       "    </tr>\n",
       "    <tr>\n",
       "      <th>Epochs - 3 Batch Size - 32</th>\n",
       "      <td>0.515664</td>\n",
       "      <td>0.577692</td>\n",
       "      <td>15.810142</td>\n",
       "    </tr>\n",
       "    <tr>\n",
       "      <th>Epochs - 3 Batch Size - 64</th>\n",
       "      <td>0.476732</td>\n",
       "      <td>0.554432</td>\n",
       "      <td>15.614956</td>\n",
       "    </tr>\n",
       "  </tbody>\n",
       "</table>\n",
       "</div>"
      ],
      "text/plain": [
       "                                   0         1          2\n",
       "Epochs - 1 Batch Size - 32  0.517190  0.579882  16.465361\n",
       "Epochs - 1 Batch Size - 64  0.485980  0.559536  16.523079\n",
       "Epochs - 2 Batch Size - 32  0.559299  0.593793  17.329901\n",
       "Epochs - 2 Batch Size - 64  0.490477  0.561553  16.044975\n",
       "Epochs - 3 Batch Size - 32  0.515664  0.577692  15.810142\n",
       "Epochs - 3 Batch Size - 64  0.476732  0.554432  15.614956"
      ]
     },
     "execution_count": 8,
     "metadata": {},
     "output_type": "execute_result"
    },
    {
     "data": {
      "image/png": "[encoded data removed]",
      "text/plain": [
       "<Figure size 432x288 with 1 Axes>"
      ]
     },
     "metadata": {
      "needs_background": "light"
     },
     "output_type": "display_data"
    }
   ],
   "source": [
    "results = train_test(model,3,32,results)\n",
    "results = train_test(model,3,64,results)\n",
    "results.T"
   ]
  },
  {
   "cell_type": "code",
   "execution_count": 9,
   "metadata": {},
   "outputs": [
    {
     "name": "stdout",
     "output_type": "stream",
     "text": [
      "Epoch 1/4\n",
      "176/176 - 3073s - loss: 0.0201 - mean_squared_error: 0.0201 - mean_absolute_error: 0.1103 - mean_absolute_percentage_error: 3.0523\n",
      "Epoch 2/4\n",
      "176/176 - 3520s - loss: 0.0333 - mean_squared_error: 0.0333 - mean_absolute_error: 0.1434 - mean_absolute_percentage_error: 3.9402\n",
      "Epoch 3/4\n",
      "176/176 - 3673s - loss: 0.0403 - mean_squared_error: 0.0403 - mean_absolute_error: 0.1582 - mean_absolute_percentage_error: 4.3590\n",
      "Epoch 4/4\n",
      "176/176 - 3698s - loss: 0.0353 - mean_squared_error: 0.0353 - mean_absolute_error: 0.1468 - mean_absolute_percentage_error: 4.0171\n",
      "44/44 [==============================] - 247s 6s/step - loss: 0.4849 - mean_squared_error: 0.4849 - mean_absolute_error: 0.5612 - mean_absolute_percentage_error: 15.4270\n",
      "Epoch 1/4\n",
      "88/88 - 4458s - loss: 0.0267 - mean_squared_error: 0.0267 - mean_absolute_error: 0.1275 - mean_absolute_percentage_error: 3.4979\n",
      "Epoch 2/4\n",
      "88/88 - 4757s - loss: 0.0153 - mean_squared_error: 0.0153 - mean_absolute_error: 0.0969 - mean_absolute_percentage_error: 2.6639\n",
      "Epoch 3/4\n",
      "88/88 - 5717s - loss: 0.0113 - mean_squared_error: 0.0113 - mean_absolute_error: 0.0824 - mean_absolute_percentage_error: 2.2702\n",
      "Epoch 4/4\n",
      "88/88 - 5227s - loss: 0.0109 - mean_squared_error: 0.0109 - mean_absolute_error: 0.0817 - mean_absolute_percentage_error: 2.2509\n",
      "44/44 [==============================] - 243s 6s/step - loss: 0.4698 - mean_squared_error: 0.4698 - mean_absolute_error: 0.5508 - mean_absolute_percentage_error: 15.7045\n"
     ]
    },
    {
     "data": {
      "text/html": [
       "<div>\n",
       "<style scoped>\n",
       "    .dataframe tbody tr th:only-of-type {\n",
       "        vertical-align: middle;\n",
       "    }\n",
       "\n",
       "    .dataframe tbody tr th {\n",
       "        vertical-align: top;\n",
       "    }\n",
       "\n",
       "    .dataframe thead th {\n",
       "        text-align: right;\n",
       "    }\n",
       "</style>\n",
       "<table border=\"1\" class=\"dataframe\">\n",
       "  <thead>\n",
       "    <tr style=\"text-align: right;\">\n",
       "      <th></th>\n",
       "      <th>0</th>\n",
       "      <th>1</th>\n",
       "      <th>2</th>\n",
       "    </tr>\n",
       "  </thead>\n",
       "  <tbody>\n",
       "    <tr>\n",
       "      <th>Epochs - 1 Batch Size - 32</th>\n",
       "      <td>0.517190</td>\n",
       "      <td>0.579882</td>\n",
       "      <td>16.465361</td>\n",
       "    </tr>\n",
       "    <tr>\n",
       "      <th>Epochs - 1 Batch Size - 64</th>\n",
       "      <td>0.485980</td>\n",
       "      <td>0.559536</td>\n",
       "      <td>16.523079</td>\n",
       "    </tr>\n",
       "    <tr>\n",
       "      <th>Epochs - 2 Batch Size - 32</th>\n",
       "      <td>0.559299</td>\n",
       "      <td>0.593793</td>\n",
       "      <td>17.329901</td>\n",
       "    </tr>\n",
       "    <tr>\n",
       "      <th>Epochs - 2 Batch Size - 64</th>\n",
       "      <td>0.490477</td>\n",
       "      <td>0.561553</td>\n",
       "      <td>16.044975</td>\n",
       "    </tr>\n",
       "    <tr>\n",
       "      <th>Epochs - 3 Batch Size - 32</th>\n",
       "      <td>0.515664</td>\n",
       "      <td>0.577692</td>\n",
       "      <td>15.810142</td>\n",
       "    </tr>\n",
       "    <tr>\n",
       "      <th>Epochs - 3 Batch Size - 64</th>\n",
       "      <td>0.476732</td>\n",
       "      <td>0.554432</td>\n",
       "      <td>15.614956</td>\n",
       "    </tr>\n",
       "    <tr>\n",
       "      <th>Epochs - 4 Batch Size - 32</th>\n",
       "      <td>0.484865</td>\n",
       "      <td>0.561191</td>\n",
       "      <td>15.426952</td>\n",
       "    </tr>\n",
       "    <tr>\n",
       "      <th>Epochs - 4 Batch Size - 64</th>\n",
       "      <td>0.469810</td>\n",
       "      <td>0.550754</td>\n",
       "      <td>15.704459</td>\n",
       "    </tr>\n",
       "  </tbody>\n",
       "</table>\n",
       "</div>"
      ],
      "text/plain": [
       "                                   0         1          2\n",
       "Epochs - 1 Batch Size - 32  0.517190  0.579882  16.465361\n",
       "Epochs - 1 Batch Size - 64  0.485980  0.559536  16.523079\n",
       "Epochs - 2 Batch Size - 32  0.559299  0.593793  17.329901\n",
       "Epochs - 2 Batch Size - 64  0.490477  0.561553  16.044975\n",
       "Epochs - 3 Batch Size - 32  0.515664  0.577692  15.810142\n",
       "Epochs - 3 Batch Size - 64  0.476732  0.554432  15.614956\n",
       "Epochs - 4 Batch Size - 32  0.484865  0.561191  15.426952\n",
       "Epochs - 4 Batch Size - 64  0.469810  0.550754  15.704459"
      ]
     },
     "execution_count": 9,
     "metadata": {},
     "output_type": "execute_result"
    },
    {
     "data": {
      "image/png": "[encoded data removed]",
      "text/plain": [
       "<Figure size 432x288 with 1 Axes>"
      ]
     },
     "metadata": {
      "needs_background": "light"
     },
     "output_type": "display_data"
    }
   ],
   "source": [
    "results = train_test(model,4,32,results)\n",
    "results = train_test(model,4,64,results)\n",
    "results.T"
   ]
  },
  {
   "cell_type": "code",
   "execution_count": 10,
   "metadata": {},
   "outputs": [
    {
     "name": "stdout",
     "output_type": "stream",
     "text": [
      "Epoch 1/8\n",
      "176/176 - 3179s - loss: 0.0149 - mean_squared_error: 0.0149 - mean_absolute_error: 0.0962 - mean_absolute_percentage_error: 2.6545\n",
      "Epoch 2/8\n",
      "176/176 - 3196s - loss: 0.0223 - mean_squared_error: 0.0223 - mean_absolute_error: 0.1180 - mean_absolute_percentage_error: 3.2108\n",
      "Epoch 3/8\n",
      "176/176 - 3199s - loss: 0.0227 - mean_squared_error: 0.0227 - mean_absolute_error: 0.1186 - mean_absolute_percentage_error: 3.2204\n",
      "Epoch 4/8\n",
      "176/176 - 3182s - loss: 0.0230 - mean_squared_error: 0.0230 - mean_absolute_error: 0.1197 - mean_absolute_percentage_error: 3.2877\n",
      "44/44 [==============================] - 242s 5s/step - loss: 0.4787 - mean_squared_error: 0.4787 - mean_absolute_error: 0.5558 - mean_absolute_percentage_error: 15.4756\n",
      "Epoch 1/8\n",
      "88/88 - 4478s - loss: 0.0183 - mean_squared_error: 0.0183 - mean_absolute_error: 0.1057 - mean_absolute_percentage_error: 2.8726\n",
      "Epoch 2/8\n",
      "88/88 - 4575s - loss: 0.0110 - mean_squared_error: 0.0110 - mean_absolute_error: 0.0828 - mean_absolute_percentage_error: 2.2496\n",
      "Epoch 3/8\n",
      "88/88 - 4609s - loss: 0.0084 - mean_squared_error: 0.0084 - mean_absolute_error: 0.0718 - mean_absolute_percentage_error: 1.9673\n",
      "Epoch 4/8\n",
      "88/88 - 4647s - loss: 0.0070 - mean_squared_error: 0.0070 - mean_absolute_error: 0.0657 - mean_absolute_percentage_error: 1.8012\n",
      "Epoch 5/8\n",
      "88/88 - 4649s - loss: 0.0069 - mean_squared_error: 0.0069 - mean_absolute_error: 0.0656 - mean_absolute_percentage_error: 1.8013\n",
      "Epoch 6/8\n",
      "88/88 - 4653s - loss: 0.0075 - mean_squared_error: 0.0075 - mean_absolute_error: 0.0678 - mean_absolute_percentage_error: 1.8783\n",
      "Epoch 7/8\n",
      "88/88 - 4670s - loss: 0.0069 - mean_squared_error: 0.0069 - mean_absolute_error: 0.0652 - mean_absolute_percentage_error: 1.7863\n",
      "Epoch 8/8\n",
      "88/88 - 4692s - loss: 0.0063 - mean_squared_error: 0.0063 - mean_absolute_error: 0.0625 - mean_absolute_percentage_error: 1.7034\n",
      "44/44 [==============================] - 244s 6s/step - loss: 0.4648 - mean_squared_error: 0.4648 - mean_absolute_error: 0.5478 - mean_absolute_percentage_error: 15.5668\n"
     ]
    },
    {
     "data": {
      "text/html": [
       "<div>\n",
       "<style scoped>\n",
       "    .dataframe tbody tr th:only-of-type {\n",
       "        vertical-align: middle;\n",
       "    }\n",
       "\n",
       "    .dataframe tbody tr th {\n",
       "        vertical-align: top;\n",
       "    }\n",
       "\n",
       "    .dataframe thead th {\n",
       "        text-align: right;\n",
       "    }\n",
       "</style>\n",
       "<table border=\"1\" class=\"dataframe\">\n",
       "  <thead>\n",
       "    <tr style=\"text-align: right;\">\n",
       "      <th></th>\n",
       "      <th>0</th>\n",
       "      <th>1</th>\n",
       "      <th>2</th>\n",
       "    </tr>\n",
       "  </thead>\n",
       "  <tbody>\n",
       "    <tr>\n",
       "      <th>Epochs - 1 Batch Size - 32</th>\n",
       "      <td>0.517190</td>\n",
       "      <td>0.579882</td>\n",
       "      <td>16.465361</td>\n",
       "    </tr>\n",
       "    <tr>\n",
       "      <th>Epochs - 1 Batch Size - 64</th>\n",
       "      <td>0.485980</td>\n",
       "      <td>0.559536</td>\n",
       "      <td>16.523079</td>\n",
       "    </tr>\n",
       "    <tr>\n",
       "      <th>Epochs - 2 Batch Size - 32</th>\n",
       "      <td>0.559299</td>\n",
       "      <td>0.593793</td>\n",
       "      <td>17.329901</td>\n",
       "    </tr>\n",
       "    <tr>\n",
       "      <th>Epochs - 2 Batch Size - 64</th>\n",
       "      <td>0.490477</td>\n",
       "      <td>0.561553</td>\n",
       "      <td>16.044975</td>\n",
       "    </tr>\n",
       "    <tr>\n",
       "      <th>Epochs - 3 Batch Size - 32</th>\n",
       "      <td>0.515664</td>\n",
       "      <td>0.577692</td>\n",
       "      <td>15.810142</td>\n",
       "    </tr>\n",
       "    <tr>\n",
       "      <th>Epochs - 3 Batch Size - 64</th>\n",
       "      <td>0.476732</td>\n",
       "      <td>0.554432</td>\n",
       "      <td>15.614956</td>\n",
       "    </tr>\n",
       "    <tr>\n",
       "      <th>Epochs - 4 Batch Size - 32</th>\n",
       "      <td>0.484865</td>\n",
       "      <td>0.561191</td>\n",
       "      <td>15.426952</td>\n",
       "    </tr>\n",
       "    <tr>\n",
       "      <th>Epochs - 4 Batch Size - 64</th>\n",
       "      <td>0.469810</td>\n",
       "      <td>0.550754</td>\n",
       "      <td>15.704459</td>\n",
       "    </tr>\n",
       "    <tr>\n",
       "      <th>Epochs - 8 Batch Size - 32</th>\n",
       "      <td>0.478685</td>\n",
       "      <td>0.555827</td>\n",
       "      <td>15.475608</td>\n",
       "    </tr>\n",
       "    <tr>\n",
       "      <th>Epochs - 8 Batch Size - 64</th>\n",
       "      <td>0.464775</td>\n",
       "      <td>0.547797</td>\n",
       "      <td>15.566788</td>\n",
       "    </tr>\n",
       "  </tbody>\n",
       "</table>\n",
       "</div>"
      ],
      "text/plain": [
       "                                   0         1          2\n",
       "Epochs - 1 Batch Size - 32  0.517190  0.579882  16.465361\n",
       "Epochs - 1 Batch Size - 64  0.485980  0.559536  16.523079\n",
       "Epochs - 2 Batch Size - 32  0.559299  0.593793  17.329901\n",
       "Epochs - 2 Batch Size - 64  0.490477  0.561553  16.044975\n",
       "Epochs - 3 Batch Size - 32  0.515664  0.577692  15.810142\n",
       "Epochs - 3 Batch Size - 64  0.476732  0.554432  15.614956\n",
       "Epochs - 4 Batch Size - 32  0.484865  0.561191  15.426952\n",
       "Epochs - 4 Batch Size - 64  0.469810  0.550754  15.704459\n",
       "Epochs - 8 Batch Size - 32  0.478685  0.555827  15.475608\n",
       "Epochs - 8 Batch Size - 64  0.464775  0.547797  15.566788"
      ]
     },
     "execution_count": 10,
     "metadata": {},
     "output_type": "execute_result"
    },
    {
     "data": {
      "image/png": "[encoded data removed]",
      "text/plain": [
       "<Figure size 432x288 with 1 Axes>"
      ]
     },
     "metadata": {
      "needs_background": "light"
     },
     "output_type": "display_data"
    }
   ],
   "source": [
    "results = train_test(model,8,32,results)\n",
    "results = train_test(model,8,64,results)\n",
    "results.T"
   ]
  },
  {
   "cell_type": "code",
   "execution_count": 12,
   "metadata": {},
   "outputs": [
    {
     "name": "stdout",
     "output_type": "stream",
     "text": [
      "Epoch 1/30\n",
      "176/176 - 3445s - loss: 0.0240 - mean_squared_error: 0.0240 - mean_absolute_error: 0.1215 - mean_absolute_percentage_error: 3.3024\n",
      "Epoch 2/30\n",
      "176/176 - 3304s - loss: 0.0270 - mean_squared_error: 0.0270 - mean_absolute_error: 0.1297 - mean_absolute_percentage_error: 3.5181\n",
      "Epoch 3/30\n",
      "176/176 - 4424s - loss: 0.0241 - mean_squared_error: 0.0241 - mean_absolute_error: 0.1221 - mean_absolute_percentage_error: 3.3195\n",
      "Epoch 4/30\n"
     ]
    },
    {
     "ename": "KeyboardInterrupt",
     "evalue": "",
     "output_type": "error",
     "traceback": [
      "\u001b[1;31m---------------------------------------------------------------------------\u001b[0m",
      "\u001b[1;31mKeyboardInterrupt\u001b[0m                         Traceback (most recent call last)",
      "\u001b[1;32m~\\AppData\\Local\\Temp/ipykernel_6196/3796641566.py\u001b[0m in \u001b[0;36m<module>\u001b[1;34m\u001b[0m\n\u001b[1;32m----> 1\u001b[1;33m \u001b[0mresults\u001b[0m \u001b[1;33m=\u001b[0m \u001b[0mtrain_test\u001b[0m\u001b[1;33m(\u001b[0m\u001b[0mmodel\u001b[0m\u001b[1;33m,\u001b[0m\u001b[1;36m30\u001b[0m\u001b[1;33m,\u001b[0m\u001b[1;36m32\u001b[0m\u001b[1;33m,\u001b[0m\u001b[0mresults\u001b[0m\u001b[1;33m)\u001b[0m\u001b[1;33m\u001b[0m\u001b[1;33m\u001b[0m\u001b[0m\n\u001b[0m\u001b[0;32m      2\u001b[0m \u001b[0mresults\u001b[0m \u001b[1;33m=\u001b[0m \u001b[0mtrain_test\u001b[0m\u001b[1;33m(\u001b[0m\u001b[0mmodel\u001b[0m\u001b[1;33m,\u001b[0m\u001b[1;36m30\u001b[0m\u001b[1;33m,\u001b[0m\u001b[1;36m64\u001b[0m\u001b[1;33m,\u001b[0m\u001b[0mresults\u001b[0m\u001b[1;33m)\u001b[0m\u001b[1;33m\u001b[0m\u001b[1;33m\u001b[0m\u001b[0m\n\u001b[0;32m      3\u001b[0m \u001b[0mresults\u001b[0m\u001b[1;33m.\u001b[0m\u001b[0mT\u001b[0m\u001b[1;33m\u001b[0m\u001b[1;33m\u001b[0m\u001b[0m\n",
      "\u001b[1;32m~\\AppData\\Local\\Temp/ipykernel_6196/4240879554.py\u001b[0m in \u001b[0;36mtrain_test\u001b[1;34m(model, epochs, batch_size, results)\u001b[0m\n\u001b[0;32m      1\u001b[0m \u001b[1;32mdef\u001b[0m \u001b[0mtrain_test\u001b[0m\u001b[1;33m(\u001b[0m\u001b[0mmodel\u001b[0m\u001b[1;33m,\u001b[0m \u001b[0mepochs\u001b[0m\u001b[1;33m,\u001b[0m \u001b[0mbatch_size\u001b[0m\u001b[1;33m,\u001b[0m \u001b[0mresults\u001b[0m\u001b[1;33m)\u001b[0m\u001b[1;33m:\u001b[0m\u001b[1;33m\u001b[0m\u001b[1;33m\u001b[0m\u001b[0m\n\u001b[0;32m      2\u001b[0m     \u001b[0mcallback\u001b[0m \u001b[1;33m=\u001b[0m \u001b[0mtf\u001b[0m\u001b[1;33m.\u001b[0m\u001b[0mkeras\u001b[0m\u001b[1;33m.\u001b[0m\u001b[0mcallbacks\u001b[0m\u001b[1;33m.\u001b[0m\u001b[0mEarlyStopping\u001b[0m\u001b[1;33m(\u001b[0m\u001b[0mmonitor\u001b[0m\u001b[1;33m=\u001b[0m\u001b[1;34m'loss'\u001b[0m\u001b[1;33m,\u001b[0m \u001b[0mpatience\u001b[0m\u001b[1;33m=\u001b[0m\u001b[1;36m3\u001b[0m\u001b[1;33m)\u001b[0m\u001b[1;33m\u001b[0m\u001b[1;33m\u001b[0m\u001b[0m\n\u001b[1;32m----> 3\u001b[1;33m     \u001b[0mhistory\u001b[0m \u001b[1;33m=\u001b[0m \u001b[0mmodel\u001b[0m\u001b[1;33m.\u001b[0m\u001b[0mfit\u001b[0m\u001b[1;33m(\u001b[0m\u001b[0mx\u001b[0m\u001b[1;33m=\u001b[0m\u001b[0mtrain_samples\u001b[0m\u001b[1;33m,\u001b[0m\u001b[0my\u001b[0m\u001b[1;33m=\u001b[0m\u001b[0mtrain_labels\u001b[0m\u001b[1;33m,\u001b[0m\u001b[0mbatch_size\u001b[0m\u001b[1;33m=\u001b[0m\u001b[0mbatch_size\u001b[0m\u001b[1;33m,\u001b[0m\u001b[0mepochs\u001b[0m\u001b[1;33m=\u001b[0m\u001b[0mepochs\u001b[0m\u001b[1;33m,\u001b[0m\u001b[0mverbose\u001b[0m\u001b[1;33m=\u001b[0m\u001b[1;36m2\u001b[0m\u001b[1;33m,\u001b[0m\u001b[0mcallbacks\u001b[0m\u001b[1;33m=\u001b[0m\u001b[1;33m[\u001b[0m\u001b[0mcallback\u001b[0m\u001b[1;33m]\u001b[0m\u001b[1;33m)\u001b[0m\u001b[1;33m\u001b[0m\u001b[1;33m\u001b[0m\u001b[0m\n\u001b[0m\u001b[0;32m      4\u001b[0m \u001b[1;33m\u001b[0m\u001b[0m\n\u001b[0;32m      5\u001b[0m     \u001b[0mscores\u001b[0m \u001b[1;33m=\u001b[0m \u001b[0mmodel\u001b[0m\u001b[1;33m.\u001b[0m\u001b[0mevaluate\u001b[0m\u001b[1;33m(\u001b[0m\u001b[0mx\u001b[0m\u001b[1;33m=\u001b[0m\u001b[0mtest_samples\u001b[0m\u001b[1;33m,\u001b[0m\u001b[0my\u001b[0m\u001b[1;33m=\u001b[0m\u001b[0mtest_labels\u001b[0m\u001b[1;33m)\u001b[0m\u001b[1;33m\u001b[0m\u001b[1;33m\u001b[0m\u001b[0m\n",
      "\u001b[1;32m~\\AppData\\Local\\Packages\\PythonSoftwareFoundation.Python.3.9_qbz5n2kfra8p0\\LocalCache\\local-packages\\Python39\\site-packages\\keras\\engine\\training.py\u001b[0m in \u001b[0;36mfit\u001b[1;34m(self, x, y, batch_size, epochs, verbose, callbacks, validation_split, validation_data, shuffle, class_weight, sample_weight, initial_epoch, steps_per_epoch, validation_steps, validation_batch_size, validation_freq, max_queue_size, workers, use_multiprocessing)\u001b[0m\n\u001b[0;32m   1182\u001b[0m                 _r=1):\n\u001b[0;32m   1183\u001b[0m               \u001b[0mcallbacks\u001b[0m\u001b[1;33m.\u001b[0m\u001b[0mon_train_batch_begin\u001b[0m\u001b[1;33m(\u001b[0m\u001b[0mstep\u001b[0m\u001b[1;33m)\u001b[0m\u001b[1;33m\u001b[0m\u001b[1;33m\u001b[0m\u001b[0m\n\u001b[1;32m-> 1184\u001b[1;33m               \u001b[0mtmp_logs\u001b[0m \u001b[1;33m=\u001b[0m \u001b[0mself\u001b[0m\u001b[1;33m.\u001b[0m\u001b[0mtrain_function\u001b[0m\u001b[1;33m(\u001b[0m\u001b[0miterator\u001b[0m\u001b[1;33m)\u001b[0m\u001b[1;33m\u001b[0m\u001b[1;33m\u001b[0m\u001b[0m\n\u001b[0m\u001b[0;32m   1185\u001b[0m               \u001b[1;32mif\u001b[0m \u001b[0mdata_handler\u001b[0m\u001b[1;33m.\u001b[0m\u001b[0mshould_sync\u001b[0m\u001b[1;33m:\u001b[0m\u001b[1;33m\u001b[0m\u001b[1;33m\u001b[0m\u001b[0m\n\u001b[0;32m   1186\u001b[0m                 \u001b[0mcontext\u001b[0m\u001b[1;33m.\u001b[0m\u001b[0masync_wait\u001b[0m\u001b[1;33m(\u001b[0m\u001b[1;33m)\u001b[0m\u001b[1;33m\u001b[0m\u001b[1;33m\u001b[0m\u001b[0m\n",
      "\u001b[1;32m~\\AppData\\Local\\Packages\\PythonSoftwareFoundation.Python.3.9_qbz5n2kfra8p0\\LocalCache\\local-packages\\Python39\\site-packages\\tensorflow\\python\\eager\\def_function.py\u001b[0m in \u001b[0;36m__call__\u001b[1;34m(self, *args, **kwds)\u001b[0m\n\u001b[0;32m    883\u001b[0m \u001b[1;33m\u001b[0m\u001b[0m\n\u001b[0;32m    884\u001b[0m       \u001b[1;32mwith\u001b[0m \u001b[0mOptionalXlaContext\u001b[0m\u001b[1;33m(\u001b[0m\u001b[0mself\u001b[0m\u001b[1;33m.\u001b[0m\u001b[0m_jit_compile\u001b[0m\u001b[1;33m)\u001b[0m\u001b[1;33m:\u001b[0m\u001b[1;33m\u001b[0m\u001b[1;33m\u001b[0m\u001b[0m\n\u001b[1;32m--> 885\u001b[1;33m         \u001b[0mresult\u001b[0m \u001b[1;33m=\u001b[0m \u001b[0mself\u001b[0m\u001b[1;33m.\u001b[0m\u001b[0m_call\u001b[0m\u001b[1;33m(\u001b[0m\u001b[1;33m*\u001b[0m\u001b[0margs\u001b[0m\u001b[1;33m,\u001b[0m \u001b[1;33m**\u001b[0m\u001b[0mkwds\u001b[0m\u001b[1;33m)\u001b[0m\u001b[1;33m\u001b[0m\u001b[1;33m\u001b[0m\u001b[0m\n\u001b[0m\u001b[0;32m    886\u001b[0m \u001b[1;33m\u001b[0m\u001b[0m\n\u001b[0;32m    887\u001b[0m       \u001b[0mnew_tracing_count\u001b[0m \u001b[1;33m=\u001b[0m \u001b[0mself\u001b[0m\u001b[1;33m.\u001b[0m\u001b[0mexperimental_get_tracing_count\u001b[0m\u001b[1;33m(\u001b[0m\u001b[1;33m)\u001b[0m\u001b[1;33m\u001b[0m\u001b[1;33m\u001b[0m\u001b[0m\n",
      "\u001b[1;32m~\\AppData\\Local\\Packages\\PythonSoftwareFoundation.Python.3.9_qbz5n2kfra8p0\\LocalCache\\local-packages\\Python39\\site-packages\\tensorflow\\python\\eager\\def_function.py\u001b[0m in \u001b[0;36m_call\u001b[1;34m(self, *args, **kwds)\u001b[0m\n\u001b[0;32m    915\u001b[0m       \u001b[1;31m# In this case we have created variables on the first call, so we run the\u001b[0m\u001b[1;33m\u001b[0m\u001b[1;33m\u001b[0m\u001b[0m\n\u001b[0;32m    916\u001b[0m       \u001b[1;31m# defunned version which is guaranteed to never create variables.\u001b[0m\u001b[1;33m\u001b[0m\u001b[1;33m\u001b[0m\u001b[0m\n\u001b[1;32m--> 917\u001b[1;33m       \u001b[1;32mreturn\u001b[0m \u001b[0mself\u001b[0m\u001b[1;33m.\u001b[0m\u001b[0m_stateless_fn\u001b[0m\u001b[1;33m(\u001b[0m\u001b[1;33m*\u001b[0m\u001b[0margs\u001b[0m\u001b[1;33m,\u001b[0m \u001b[1;33m**\u001b[0m\u001b[0mkwds\u001b[0m\u001b[1;33m)\u001b[0m  \u001b[1;31m# pylint: disable=not-callable\u001b[0m\u001b[1;33m\u001b[0m\u001b[1;33m\u001b[0m\u001b[0m\n\u001b[0m\u001b[0;32m    918\u001b[0m     \u001b[1;32melif\u001b[0m \u001b[0mself\u001b[0m\u001b[1;33m.\u001b[0m\u001b[0m_stateful_fn\u001b[0m \u001b[1;32mis\u001b[0m \u001b[1;32mnot\u001b[0m \u001b[1;32mNone\u001b[0m\u001b[1;33m:\u001b[0m\u001b[1;33m\u001b[0m\u001b[1;33m\u001b[0m\u001b[0m\n\u001b[0;32m    919\u001b[0m       \u001b[1;31m# Release the lock early so that multiple threads can perform the call\u001b[0m\u001b[1;33m\u001b[0m\u001b[1;33m\u001b[0m\u001b[0m\n",
      "\u001b[1;32m~\\AppData\\Local\\Packages\\PythonSoftwareFoundation.Python.3.9_qbz5n2kfra8p0\\LocalCache\\local-packages\\Python39\\site-packages\\tensorflow\\python\\eager\\function.py\u001b[0m in \u001b[0;36m__call__\u001b[1;34m(self, *args, **kwargs)\u001b[0m\n\u001b[0;32m   3037\u001b[0m       (graph_function,\n\u001b[0;32m   3038\u001b[0m        filtered_flat_args) = self._maybe_define_function(args, kwargs)\n\u001b[1;32m-> 3039\u001b[1;33m     return graph_function._call_flat(\n\u001b[0m\u001b[0;32m   3040\u001b[0m         filtered_flat_args, captured_inputs=graph_function.captured_inputs)  # pylint: disable=protected-access\n\u001b[0;32m   3041\u001b[0m \u001b[1;33m\u001b[0m\u001b[0m\n",
      "\u001b[1;32m~\\AppData\\Local\\Packages\\PythonSoftwareFoundation.Python.3.9_qbz5n2kfra8p0\\LocalCache\\local-packages\\Python39\\site-packages\\tensorflow\\python\\eager\\function.py\u001b[0m in \u001b[0;36m_call_flat\u001b[1;34m(self, args, captured_inputs, cancellation_manager)\u001b[0m\n\u001b[0;32m   1961\u001b[0m         and executing_eagerly):\n\u001b[0;32m   1962\u001b[0m       \u001b[1;31m# No tape is watching; skip to running the function.\u001b[0m\u001b[1;33m\u001b[0m\u001b[1;33m\u001b[0m\u001b[0m\n\u001b[1;32m-> 1963\u001b[1;33m       return self._build_call_outputs(self._inference_function.call(\n\u001b[0m\u001b[0;32m   1964\u001b[0m           ctx, args, cancellation_manager=cancellation_manager))\n\u001b[0;32m   1965\u001b[0m     forward_backward = self._select_forward_and_backward_functions(\n",
      "\u001b[1;32m~\\AppData\\Local\\Packages\\PythonSoftwareFoundation.Python.3.9_qbz5n2kfra8p0\\LocalCache\\local-packages\\Python39\\site-packages\\tensorflow\\python\\eager\\function.py\u001b[0m in \u001b[0;36mcall\u001b[1;34m(self, ctx, args, cancellation_manager)\u001b[0m\n\u001b[0;32m    589\u001b[0m       \u001b[1;32mwith\u001b[0m \u001b[0m_InterpolateFunctionError\u001b[0m\u001b[1;33m(\u001b[0m\u001b[0mself\u001b[0m\u001b[1;33m)\u001b[0m\u001b[1;33m:\u001b[0m\u001b[1;33m\u001b[0m\u001b[1;33m\u001b[0m\u001b[0m\n\u001b[0;32m    590\u001b[0m         \u001b[1;32mif\u001b[0m \u001b[0mcancellation_manager\u001b[0m \u001b[1;32mis\u001b[0m \u001b[1;32mNone\u001b[0m\u001b[1;33m:\u001b[0m\u001b[1;33m\u001b[0m\u001b[1;33m\u001b[0m\u001b[0m\n\u001b[1;32m--> 591\u001b[1;33m           outputs = execute.execute(\n\u001b[0m\u001b[0;32m    592\u001b[0m               \u001b[0mstr\u001b[0m\u001b[1;33m(\u001b[0m\u001b[0mself\u001b[0m\u001b[1;33m.\u001b[0m\u001b[0msignature\u001b[0m\u001b[1;33m.\u001b[0m\u001b[0mname\u001b[0m\u001b[1;33m)\u001b[0m\u001b[1;33m,\u001b[0m\u001b[1;33m\u001b[0m\u001b[1;33m\u001b[0m\u001b[0m\n\u001b[0;32m    593\u001b[0m               \u001b[0mnum_outputs\u001b[0m\u001b[1;33m=\u001b[0m\u001b[0mself\u001b[0m\u001b[1;33m.\u001b[0m\u001b[0m_num_outputs\u001b[0m\u001b[1;33m,\u001b[0m\u001b[1;33m\u001b[0m\u001b[1;33m\u001b[0m\u001b[0m\n",
      "\u001b[1;32m~\\AppData\\Local\\Packages\\PythonSoftwareFoundation.Python.3.9_qbz5n2kfra8p0\\LocalCache\\local-packages\\Python39\\site-packages\\tensorflow\\python\\eager\\execute.py\u001b[0m in \u001b[0;36mquick_execute\u001b[1;34m(op_name, num_outputs, inputs, attrs, ctx, name)\u001b[0m\n\u001b[0;32m     57\u001b[0m   \u001b[1;32mtry\u001b[0m\u001b[1;33m:\u001b[0m\u001b[1;33m\u001b[0m\u001b[1;33m\u001b[0m\u001b[0m\n\u001b[0;32m     58\u001b[0m     \u001b[0mctx\u001b[0m\u001b[1;33m.\u001b[0m\u001b[0mensure_initialized\u001b[0m\u001b[1;33m(\u001b[0m\u001b[1;33m)\u001b[0m\u001b[1;33m\u001b[0m\u001b[1;33m\u001b[0m\u001b[0m\n\u001b[1;32m---> 59\u001b[1;33m     tensors = pywrap_tfe.TFE_Py_Execute(ctx._handle, device_name, op_name,\n\u001b[0m\u001b[0;32m     60\u001b[0m                                         inputs, attrs, num_outputs)\n\u001b[0;32m     61\u001b[0m   \u001b[1;32mexcept\u001b[0m \u001b[0mcore\u001b[0m\u001b[1;33m.\u001b[0m\u001b[0m_NotOkStatusException\u001b[0m \u001b[1;32mas\u001b[0m \u001b[0me\u001b[0m\u001b[1;33m:\u001b[0m\u001b[1;33m\u001b[0m\u001b[1;33m\u001b[0m\u001b[0m\n",
      "\u001b[1;31mKeyboardInterrupt\u001b[0m: "
     ]
    }
   ],
   "source": [
    "results = train_test(model,30,32,results)\n",
    "results = train_test(model,30,64,results)\n",
    "results.T"
   ]
  },
  {
   "cell_type": "markdown",
   "metadata": {},
   "source": []
  },
  {
   "cell_type": "code",
   "execution_count": null,
   "metadata": {},
   "outputs": [],
   "source": [
    "results = results.T\n",
    "results.to_csv(\"bert_tests_20_test_80_train.csv\")\n",
    "results"
   ]
  }
 ],
 "metadata": {
  "interpreter": {
   "hash": "398e6eae58e6d4656a743cb168d0751de636ca5ff86262c603eb7cbbad789ea4"
  },
  "kernelspec": {
   "display_name": "Python 3.7.9 64-bit (windows store)",
   "language": "python",
   "name": "python3"
  },
  "language_info": {
   "codemirror_mode": {
    "name": "ipython",
    "version": 3
   },
   "file_extension": ".py",
   "mimetype": "text/x-python",
   "name": "python",
   "nbconvert_exporter": "python",
   "pygments_lexer": "ipython3",
   "version": "3.9.7"
  },
  "orig_nbformat": 4
 },
 "nbformat": 4,
 "nbformat_minor": 2
}
