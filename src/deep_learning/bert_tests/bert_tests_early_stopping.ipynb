{
 "cells": [
  {
   "cell_type": "code",
   "execution_count": 1,
   "metadata": {},
   "outputs": [],
   "source": [
    "# Imports \n",
    "import pandas as pd\n",
    "import numpy as np\n",
    "from sklearn.model_selection import train_test_split\n",
    "import tensorflow as tf\n",
    "import tensorflow_hub as hub\n",
    "import tensorflow_text as text\n",
    "from keras import backend as K\n",
    "import matplotlib.pyplot as plt "
   ]
  },
  {
   "cell_type": "code",
   "execution_count": 2,
   "metadata": {},
   "outputs": [],
   "source": [
    "# Import data\n",
    "data = pd.read_csv(\"../../../data/mturk_experiment_2.csv\",encoding='unicode_escape')\n",
    "labels = data[\"Formality\"]\n",
    "samples = data[\"Sentence\"]\n",
    "\n",
    "# Testing with 90% training data\n",
    "train_samples, test_samples, train_labels,test_labels = train_test_split(samples, labels, test_size=0.2,random_state=5)\n",
    "\n",
    "train_samples = np.array(train_samples)\n",
    "test_samples = np.array(test_samples)\n",
    "train_labels = np.array(train_labels)\n",
    "test_labels = np.array(test_labels)"
   ]
  },
  {
   "cell_type": "code",
   "execution_count": 3,
   "metadata": {},
   "outputs": [
    {
     "name": "stdout",
     "output_type": "stream",
     "text": [
      "Model: \"model\"\n",
      "__________________________________________________________________________________________________\n",
      "Layer (type)                    Output Shape         Param #     Connected to                     \n",
      "==================================================================================================\n",
      "text (InputLayer)               [(None,)]            0                                            \n",
      "__________________________________________________________________________________________________\n",
      "preprocessing (KerasLayer)      {'input_type_ids': ( 0           text[0][0]                       \n",
      "__________________________________________________________________________________________________\n",
      "BERT_encoder (KerasLayer)       {'sequence_output':  108310273   preprocessing[0][0]              \n",
      "                                                                 preprocessing[0][1]              \n",
      "                                                                 preprocessing[0][2]              \n",
      "__________________________________________________________________________________________________\n",
      "tf.reshape (TFOpLambda)         (None, 768, 1)       0           BERT_encoder[0][13]              \n",
      "__________________________________________________________________________________________________\n",
      "lstm (LSTM)                     (None, 768, 512)     1052672     tf.reshape[0][0]                 \n",
      "__________________________________________________________________________________________________\n",
      "peel_the_layer (peel_the_layer) ((None, 768, 1), (No 1280        lstm[0][0]                       \n",
      "__________________________________________________________________________________________________\n",
      "dense (Dense)                   (None, 1)            513         peel_the_layer[0][1]             \n",
      "==================================================================================================\n",
      "Total params: 109,364,738\n",
      "Trainable params: 109,364,737\n",
      "Non-trainable params: 1\n",
      "__________________________________________________________________________________________________\n"
     ]
    }
   ],
   "source": [
    "# Model setup\n",
    "\n",
    "# Attention layer\n",
    "class peel_the_layer(tf.keras.layers.Layer): \n",
    "\n",
    "    def __init__(self):    \n",
    "        ##Nothing special to be done here\n",
    "        super(peel_the_layer, self).__init__()\n",
    "\n",
    "    def build(self, input_shape):\n",
    "        ##Define the shape of the weights and bias in this layer\n",
    "        ##This is a 1 unit layer. \n",
    "        units=1\n",
    "        ##last index of the input_shape is the number of dimensions of the prev\n",
    "        ##RNN layer. last but 1 index is the num of timesteps\n",
    "        self.w=self.add_weight(name=\"att_weights\", shape=(input_shape[-1], units), initializer=\"normal\") #name property is useful for avoiding RuntimeError: Unable to create link.\n",
    "        self.b=self.add_weight(name=\"att_bias\", shape=(input_shape[-2], units), initializer=\"zeros\")\n",
    "        super(peel_the_layer,self).build(input_shape)\n",
    "\n",
    "    def call(self, x):\n",
    "        ##x is the input tensor..each word that needs to be attended to\n",
    "        ##Below is the main processing done during training\n",
    "        ##K is the Keras Backend import\n",
    "        e = K.tanh(K.dot(x,self.w)+self.b)\n",
    "        a = K.softmax(e, axis=1)\n",
    "        output = x*a\n",
    "\n",
    "        ##return the ouputs. 'a' is the set of attention weights\n",
    "        ##the second variable is the 'attention adjusted o/p state' or context\n",
    "        return a, K.sum(output, axis=1)\n",
    "\n",
    "bert_model_name = 'small_bert/bert_en_uncased_L-4_H-512_A-8' \n",
    "\n",
    "tfhub_handle_encoder = 'https://tfhub.dev/tensorflow/bert_en_cased_L-12_H-768_A-12/3'\n",
    "tfhub_handle_preprocess =   'https://tfhub.dev/tensorflow/bert_en_cased_preprocess/3'\n",
    "bert_preprocess_model = hub.KerasLayer(tfhub_handle_preprocess)\n",
    "bert_model = hub.KerasLayer(tfhub_handle_encoder)\n",
    "\n",
    "text_input = tf.keras.layers.Input(shape=(), dtype=tf.string, name='text')\n",
    "preprocessing_layer = hub.KerasLayer(tfhub_handle_preprocess, name='preprocessing')\n",
    "encoder_inputs = preprocessing_layer(text_input)\n",
    "encoder = hub.KerasLayer(tfhub_handle_encoder, trainable=True, name='BERT_encoder')\n",
    "outputs = encoder(encoder_inputs)\n",
    "net = outputs['pooled_output']\n",
    "reshaped = tf.reshape(net,[-1, 768, 1])\n",
    "lstm = tf.keras.layers.LSTM(512,return_sequences=True)(reshaped)\n",
    "a, context = peel_the_layer()(lstm)\n",
    "\n",
    "dense = tf.keras.layers.Dense(1)(context)\n",
    "model = tf.keras.Model(text_input, dense)\n",
    "model.summary()\n",
    "\n",
    "loss = 'mse'\n",
    "metrics = [tf.keras.metrics.MeanSquaredError(),tf.keras.losses.MeanAbsoluteError(),tf.keras.losses.MeanAbsolutePercentageError()]\n",
    "optimiser = tf.optimizers.Adam(learning_rate= 5e-5)\n",
    "\n",
    "model.compile(optimizer=optimiser, loss=loss, metrics=metrics)"
   ]
  },
  {
   "cell_type": "code",
   "execution_count": 4,
   "metadata": {},
   "outputs": [],
   "source": [
    "# Results setup\n",
    "\n",
    "results = pd.DataFrame()"
   ]
  },
  {
   "cell_type": "code",
   "execution_count": 5,
   "metadata": {},
   "outputs": [],
   "source": [
    "def train_test(model, epochs, batch_size, results):\n",
    "    callback = tf.keras.callbacks.EarlyStopping(monitor='loss', patience=3)\n",
    "    history = model.fit(x=train_samples,y=train_labels,batch_size=batch_size,epochs=epochs,verbose=2,callbacks=[callback])\n",
    "\n",
    "    scores = model.evaluate(x=test_samples,y=test_labels)\n",
    "    model_label = \"Epochs - \" + str(epochs) + \" Batch Size - \" + str(batch_size)\n",
    "\n",
    "    results[model_label] = scores[1:]\n",
    "\n",
    "    mse = history.history['mean_squared_error']\n",
    "\n",
    "    plt.plot(mse)\n",
    "    plt.title(\"Model: \" + model_label)\n",
    "    plt.ylabel('MSE')\n",
    "    plt.xlabel('Epoch')\n",
    "    plt.ylim(bottom=0)\n",
    "    plt.savefig(model_label + \".jpeg\",dpi=100,bbox_inches='tight')\n",
    "\n",
    "    return results"
   ]
  },
  {
   "cell_type": "code",
   "execution_count": 6,
   "metadata": {},
   "outputs": [
    {
     "name": "stdout",
     "output_type": "stream",
     "text": [
      "Epoch 1/20\n",
      "176/176 - 3075s - loss: 4.3125 - mean_squared_error: 4.3125 - mean_absolute_error: 1.4268 - mean_absolute_percentage_error: 37.2750\n",
      "Epoch 2/20\n",
      "176/176 - 3141s - loss: 0.4510 - mean_squared_error: 0.4510 - mean_absolute_error: 0.5355 - mean_absolute_percentage_error: 15.0909\n",
      "Epoch 3/20\n",
      "176/176 - 3123s - loss: 0.2809 - mean_squared_error: 0.2809 - mean_absolute_error: 0.4184 - mean_absolute_percentage_error: 11.5963\n",
      "Epoch 4/20\n",
      "176/176 - 3130s - loss: 0.1572 - mean_squared_error: 0.1572 - mean_absolute_error: 0.3091 - mean_absolute_percentage_error: 8.5675\n",
      "Epoch 5/20\n",
      "176/176 - 3131s - loss: 0.0923 - mean_squared_error: 0.0923 - mean_absolute_error: 0.2356 - mean_absolute_percentage_error: 6.4402\n",
      "Epoch 6/20\n",
      "176/176 - 3127s - loss: 0.0605 - mean_squared_error: 0.0605 - mean_absolute_error: 0.1904 - mean_absolute_percentage_error: 5.2447\n",
      "Epoch 7/20\n",
      "176/176 - 3128s - loss: 0.0440 - mean_squared_error: 0.0440 - mean_absolute_error: 0.1631 - mean_absolute_percentage_error: 4.4867\n",
      "Epoch 8/20\n",
      "176/176 - 3126s - loss: 0.0336 - mean_squared_error: 0.0336 - mean_absolute_error: 0.1439 - mean_absolute_percentage_error: 3.9646\n",
      "Epoch 9/20\n",
      "176/176 - 3128s - loss: 0.0299 - mean_squared_error: 0.0299 - mean_absolute_error: 0.1359 - mean_absolute_percentage_error: 3.7688\n",
      "Epoch 10/20\n",
      "176/176 - 3134s - loss: 0.0262 - mean_squared_error: 0.0262 - mean_absolute_error: 0.1274 - mean_absolute_percentage_error: 3.5260\n",
      "Epoch 11/20\n",
      "176/176 - 3135s - loss: 0.0265 - mean_squared_error: 0.0265 - mean_absolute_error: 0.1272 - mean_absolute_percentage_error: 3.4945\n",
      "Epoch 12/20\n"
     ]
    }
   ],
   "source": [
    "results = train_test(model,20,32,results)\n",
    "results = train_test(model,20,64,results)\n",
    "results.T"
   ]
  },
  {
   "cell_type": "code",
   "execution_count": null,
   "metadata": {},
   "outputs": [],
   "source": [
    "results = train_test(model,8,32,results)\n",
    "results = train_test(model,8,64,results)\n",
    "results.T"
   ]
  },
  {
   "cell_type": "code",
   "execution_count": null,
   "metadata": {},
   "outputs": [],
   "source": [
    "results = train_test(model,4,32,results)\n",
    "results = train_test(model,4,64,results)\n",
    "results.T"
   ]
  },
  {
   "cell_type": "code",
   "execution_count": null,
   "metadata": {},
   "outputs": [],
   "source": [
    "results = train_test(model,3,32,results)\n",
    "results = train_test(model,3,64,results)\n",
    "results.T"
   ]
  },
  {
   "cell_type": "code",
   "execution_count": null,
   "metadata": {},
   "outputs": [],
   "source": [
    "results = train_test(model,2,32,results)\n",
    "results = train_test(model,2,64,results)\n",
    "results.T"
   ]
  },
  {
   "cell_type": "code",
   "execution_count": null,
   "metadata": {},
   "outputs": [],
   "source": [
    "results = train_test(model,1,32,results)\n",
    "results = train_test(model,1,64,results)\n",
    "results.T"
   ]
  },
  {
   "cell_type": "code",
   "execution_count": null,
   "metadata": {},
   "outputs": [],
   "source": [
    "results = results.T\n",
    "results.to_csv(\"../../data/random_state_five/bert_italian_sentences_scores.csv\")\n",
    "results"
   ]
  }
 ],
 "metadata": {
  "interpreter": {
   "hash": "398e6eae58e6d4656a743cb168d0751de636ca5ff86262c603eb7cbbad789ea4"
  },
  "kernelspec": {
   "display_name": "Python 3.7.9 64-bit (windows store)",
   "language": "python",
   "name": "python3"
  },
  "language_info": {
   "codemirror_mode": {
    "name": "ipython",
    "version": 3
   },
   "file_extension": ".py",
   "mimetype": "text/x-python",
   "name": "python",
   "nbconvert_exporter": "python",
   "pygments_lexer": "ipython3",
   "version": "3.9.8"
  },
  "orig_nbformat": 4
 },
 "nbformat": 4,
 "nbformat_minor": 2
}
