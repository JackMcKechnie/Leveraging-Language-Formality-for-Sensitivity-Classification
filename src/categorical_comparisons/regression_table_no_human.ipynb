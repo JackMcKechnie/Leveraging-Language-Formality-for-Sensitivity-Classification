{
 "cells": [
  {
   "cell_type": "code",
   "execution_count": null,
   "metadata": {},
   "outputs": [],
   "source": [
    "# Imports\n",
    "import pandas as pd\n",
    "from regression_table import regression_table\n",
    "import math"
   ]
  },
  {
   "cell_type": "code",
   "execution_count": null,
   "metadata": {},
   "outputs": [],
   "source": [
    "# Squinky\n",
    "squinky = pd.read_csv(\"..\\..\\data\\mturk_experiment_2.csv\",encoding=\"unicode escape\")\n",
    "feature_names = [\"Length in Words\",\"Length in Characters\",\"F-score\",\"I-score\",\"Lexical Density\"]\n",
    "squinky_table = regression_table(squinky,feature_names,\"Nothing\")\n",
    "squinky_table"
   ]
  },
  {
   "cell_type": "code",
   "execution_count": null,
   "metadata": {},
   "outputs": [],
   "source": [
    "# Squinky + Lexical scores\n",
    "squinky = pd.read_csv(\"..\\..\\data\\mturk_experiment_2.csv\",encoding=\"unicode escape\")\n",
    "lexical = pd.read_csv(\"..\\..\\data\\squinky_lexical.csv\",encoding=\"unicode escape\")\n",
    "squinky_lexical = pd.merge(squinky,lexical)\n",
    "\n",
    "\n",
    "feature_names = [\"Length in Words\",\"Length in Characters\",\"F-score\",\"I-score\",\"Lexical Density\",\"Adjective Density\",\"Spellcheck Percentage\",\"Syllable Ratio\",\"Latinate vs Germanic\"]\n",
    "squinky_lexical_table = regression_table(squinky_lexical,feature_names,\"Lexical\")\n",
    "squinky_lexical_table"
   ]
  },
  {
   "cell_type": "code",
   "execution_count": null,
   "metadata": {},
   "outputs": [],
   "source": [
    "#Squinky + Scores\n",
    "\n",
    "squinky = pd.read_csv(\"..\\..\\data\\mturk_experiment_2.csv\",encoding=\"unicode escape\")\n",
    "scores = pd.read_csv(\"..\\..\\data\\squinky_scores.csv\",encoding=\"unicode escape\")\n",
    "squinky_scores = pd.merge(squinky,scores)\n",
    "\n",
    "feature_names = [\"Length in Words\",\"Length in Characters\",\"F-score\",\"I-score\",\"Lexical Density\",\"ADF Score\",\"FK Grade Level\",\"Reading Time\",\"WF Score\"]\n",
    "squinky_scores_table = regression_table(squinky_scores,feature_names,\"Scores\")\n",
    "squinky_scores_table"
   ]
  },
  {
   "cell_type": "code",
   "execution_count": null,
   "metadata": {},
   "outputs": [],
   "source": [
    "squinky = pd.read_csv(\"..\\..\\data\\mturk_experiment_2.csv\",encoding=\"unicode escape\")\n",
    "reading = pd.read_csv(\"..\\..\\data\\squinky_reading.csv\",encoding=\"unicode escape\")\n",
    "squinky_reading = pd.merge(squinky,reading)\n",
    "\n",
    "feature_names = [\"Length in Words\",\"Length in Characters\",\"F-score\",\"I-score\",\"Lexical Density\",\"FK Reading Ease\",\"FOG Scale\",\"SMOG Index\",\"ARI\",\"CL Index\",\"LW Formula\",\"DC Score\",\"Readability Consensus\",\"Spache Formula\"]\n",
    "squinky_reading_table = regression_table(squinky_reading,feature_names,\"Reading\")\n",
    "squinky_reading_table"
   ]
  },
  {
   "cell_type": "code",
   "execution_count": null,
   "metadata": {},
   "outputs": [],
   "source": [
    "squinky = pd.read_csv(\"..\\..\\data\\mturk_experiment_2.csv\",encoding=\"unicode escape\")\n",
    "nlp = pd.read_csv(\"..\\..\\data\\squinky_nlp.csv\")\n",
    "squinky_nlp = pd.merge(squinky,nlp)\n",
    "\n",
    "feature_names = [\"Length in Words\",\"Length in Characters\",\"F-score\",\"I-score\",\"Lexical Density\",\"Cluster\",\"Topic\"]\n",
    "squinky_nlp_table = regression_table(squinky_nlp,feature_names,\"NLP\")\n",
    "squinky_nlp_table"
   ]
  },
  {
   "cell_type": "code",
   "execution_count": null,
   "metadata": {},
   "outputs": [],
   "source": [
    "data_frames = [squinky, lexical, scores, reading, nlp]\n",
    "total = pd.concat(data_frames, axis=1)\n",
    "\n",
    "feature_names = [\n",
    "                 'Length in Words', 'Length in Characters', 'F-score', 'I-score',\n",
    "                 'Lexical Density', 'Adjective Density',\n",
    "                 'Spellcheck Percentage', 'Syllable Ratio', 'Latinate vs Germanic', 'ADF Score', 'FK Grade Level', 'Reading Time', 'WF Score', 'FK Reading Ease', 'FOG Scale', 'SMOG Index', 'ARI',\n",
    "                 'CL Index', 'LW Formula', 'DC Score', 'Readability Consensus',\n",
    "                 'Spache Formula','Cluster', 'Topic']\n",
    "\n",
    "\n",
    "total_table = regression_table(total,feature_names,\"All\")\n",
    "total_table"
   ]
  },
  {
   "cell_type": "code",
   "execution_count": null,
   "metadata": {},
   "outputs": [],
   "source": [
    "combined_table = pd.concat([squinky_table,squinky_lexical_table,squinky_scores_table,squinky_reading_table,squinky_nlp_table,total_table])\n",
    "\n",
    "combined_table.to_csv(\"../../data/random_state_five/traditional_models_scores.csv\")\n",
    "combined_table"
   ]
  },
  {
   "cell_type": "code",
   "execution_count": null,
   "metadata": {},
   "outputs": [],
   "source": [
    "combined_table[\"R Squared\"] = combined_table[\"R Squared\"].apply(lambda x: round(x, 4 - int(math.floor(math.log10(abs(x))))))\n",
    "combined_table"
   ]
  }
 ],
 "metadata": {
  "interpreter": {
   "hash": "a2292f7dadeec0b36dafabb7d1d8dd7b9b8b8f0665c515bec64e67bf9650aaf0"
  },
  "kernelspec": {
   "display_name": "Python 3.9.7 64-bit (windows store)",
   "name": "python3"
  },
  "language_info": {
   "codemirror_mode": {
    "name": "ipython",
    "version": 3
   },
   "file_extension": ".py",
   "mimetype": "text/x-python",
   "name": "python",
   "nbconvert_exporter": "python",
   "pygments_lexer": "ipython3",
   "version": "3.9.7"
  },
  "orig_nbformat": 4
 },
 "nbformat": 4,
 "nbformat_minor": 2
}
