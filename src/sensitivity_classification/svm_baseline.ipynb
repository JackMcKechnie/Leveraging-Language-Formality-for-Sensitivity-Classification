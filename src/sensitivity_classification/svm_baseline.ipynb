{
 "cells": [
  {
   "cell_type": "code",
   "execution_count": 29,
   "metadata": {},
   "outputs": [],
   "source": [
    "# Imports \n",
    "import pandas as pd\n",
    "import numpy as np\n",
    "from sklearn.feature_extraction.text import TfidfVectorizer\n",
    "from sklearn import model_selection, svm\n",
    "from sklearn.metrics import balanced_accuracy_score\n",
    "from sklearn.metrics import fbeta_score\n",
    "from sklearn.metrics import precision_score\n",
    "\n",
    "# Set random seed for reproducability\n",
    "np.random.seed(500)"
   ]
  },
  {
   "cell_type": "code",
   "execution_count": 30,
   "metadata": {},
   "outputs": [],
   "source": [
    "# Load in dataset\n",
    "data = pd.read_csv(\"../../data/sensitivity_data/sensitivity_dataset.csv\")\n",
    "data = data[[\"Filename\",\"Date\",\"Sensitivity\",\"Document\"]]\n",
    "\n",
    "# Train / Test split\n",
    "train_x, test_x, train_y, test_y = model_selection.train_test_split(data['Document'],data['Sensitivity'],test_size=0.2,random_state=5)"
   ]
  },
  {
   "cell_type": "code",
   "execution_count": 31,
   "metadata": {},
   "outputs": [
    {
     "name": "stdout",
     "output_type": "stream",
     "text": [
      "  (0, 4975)\t0.009245690727422677\n",
      "  (0, 4974)\t0.01706343790200572\n",
      "  (0, 4972)\t0.016237620055009852\n",
      "  (0, 4964)\t0.05287056470777404\n",
      "  (0, 4963)\t0.018180594211422933\n",
      "  (0, 4957)\t0.040695834267672315\n",
      "  (0, 4948)\t0.009552527932021843\n",
      "  (0, 4939)\t0.010961585746022141\n",
      "  (0, 4935)\t0.06041900460981615\n",
      "  (0, 4922)\t0.005825905868072858\n",
      "  (0, 4911)\t0.016362642893482365\n",
      "  (0, 4909)\t0.019037242400552566\n",
      "  (0, 4907)\t0.010130514557107253\n",
      "  (0, 4906)\t0.017220478890059107\n",
      "  (0, 4898)\t0.035591904747449304\n",
      "  (0, 4879)\t0.03237454251446588\n",
      "  (0, 4869)\t0.01807430045647964\n",
      "  (0, 4863)\t0.0256722863795706\n",
      "  (0, 4822)\t0.019795040117009527\n",
      "  (0, 4813)\t0.02907881978915265\n",
      "  (0, 4796)\t0.021152453378268637\n",
      "  (0, 4795)\t0.03897407641913441\n",
      "  (0, 4755)\t0.011555002516857335\n",
      "  (0, 4742)\t0.011738778138925546\n",
      "  (0, 4741)\t0.009466337853536635\n",
      "  :\t:\n",
      "  (760, 744)\t0.033818347013271965\n",
      "  (760, 736)\t0.014581795113579113\n",
      "  (760, 619)\t0.024593600440595106\n",
      "  (760, 543)\t0.33399559931260675\n",
      "  (760, 541)\t0.06444599119380902\n",
      "  (760, 511)\t0.04301660446508513\n",
      "  (760, 496)\t0.046253316560655615\n",
      "  (760, 489)\t0.0411710766767435\n",
      "  (760, 483)\t0.028880494737131262\n",
      "  (760, 457)\t0.052548208611333386\n",
      "  (760, 398)\t0.04770009936039662\n",
      "  (760, 377)\t0.03950655910391116\n",
      "  (760, 364)\t0.10095204669436118\n",
      "  (760, 359)\t0.030885482120846183\n",
      "  (760, 335)\t0.1296183924213337\n",
      "  (760, 328)\t0.017568161902911016\n",
      "  (760, 284)\t0.031707450231329884\n",
      "  (760, 283)\t0.03351175220292777\n",
      "  (760, 241)\t0.04775598482455208\n",
      "  (760, 63)\t0.07223666697982921\n",
      "  (760, 36)\t0.06941515883278485\n",
      "  (760, 26)\t0.013245286816065325\n",
      "  (760, 11)\t0.029103429899066478\n",
      "  (760, 9)\t0.025551267765300527\n",
      "  (760, 8)\t0.02085873131281066\n"
     ]
    }
   ],
   "source": [
    "# TF-IDF vectorise\n",
    "\n",
    "Tfidf_vect = TfidfVectorizer(max_features=5000)\n",
    "Tfidf_vect.fit(data[\"Document\"])\n",
    "train_x = Tfidf_vect.transform(train_x)\n",
    "test_x = Tfidf_vect.transform(test_x)\n",
    "\n",
    "print(test_x)"
   ]
  },
  {
   "cell_type": "code",
   "execution_count": 32,
   "metadata": {},
   "outputs": [],
   "source": [
    "# SVM predictions\n",
    "SVM = svm.SVC(C=1.0, kernel='linear', degree=3, gamma='auto')\n",
    "SVM.fit(train_x,train_y)\n",
    "# Predict the labels on validation dataset\n",
    "predictions_SVM = SVM.predict(test_x)"
   ]
  },
  {
   "cell_type": "code",
   "execution_count": 33,
   "metadata": {},
   "outputs": [
    {
     "name": "stdout",
     "output_type": "stream",
     "text": [
      "0.5 0.5274171424925835 0.07731958762886597\n"
     ]
    }
   ],
   "source": [
    "# Get scores\n",
    "\n",
    "precision = precision_score(test_y, predictions_SVM)\n",
    "bac = balanced_accuracy_score(test_y, predictions_SVM)\n",
    "f2 = fbeta_score(test_y, predictions_SVM, beta=2.0)\n",
    "\n",
    "print(precision,bac,f2)"
   ]
  }
 ],
 "metadata": {
  "interpreter": {
   "hash": "a2292f7dadeec0b36dafabb7d1d8dd7b9b8b8f0665c515bec64e67bf9650aaf0"
  },
  "kernelspec": {
   "display_name": "Python 3.9.9 64-bit (windows store)",
   "language": "python",
   "name": "python3"
  },
  "language_info": {
   "codemirror_mode": {
    "name": "ipython",
    "version": 3
   },
   "file_extension": ".py",
   "mimetype": "text/x-python",
   "name": "python",
   "nbconvert_exporter": "python",
   "pygments_lexer": "ipython3",
   "version": "3.9.9"
  },
  "orig_nbformat": 4
 },
 "nbformat": 4,
 "nbformat_minor": 2
}
