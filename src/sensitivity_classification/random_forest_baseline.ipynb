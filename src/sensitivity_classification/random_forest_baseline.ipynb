{
 "cells": [
  {
   "cell_type": "code",
   "execution_count": 12,
   "metadata": {},
   "outputs": [],
   "source": [
    "# Imports \n",
    "import pandas as pd\n",
    "import numpy as np\n",
    "from sklearn.feature_extraction.text import TfidfVectorizer\n",
    "from sklearn import model_selection, svm\n",
    "from sklearn.metrics import balanced_accuracy_score\n",
    "from sklearn.metrics import fbeta_score\n",
    "from sklearn.metrics import precision_score\n",
    "from sklearn.metrics import make_scorer\n",
    "from imblearn.over_sampling import RandomOverSampler\n",
    "from sklearn.ensemble import RandomForestClassifier\n",
    "# Set random seed for reproducability\n",
    "np.random.seed(500)"
   ]
  },
  {
   "cell_type": "code",
   "execution_count": 13,
   "metadata": {},
   "outputs": [],
   "source": [
    "# Load in dataset\n",
    "data = pd.read_csv(\"../../data/sensitivity_data/sensitivity_dataset.csv\")\n",
    "data = data[[\"Filename\",\"Date\",\"Sensitivity\",\"Document\"]]\n",
    "\n",
    "# Train / Test split\n",
    "train_x, test_x, train_y, test_y = model_selection.train_test_split(data['Document'],data['Sensitivity'],test_size=0.2,random_state=5)"
   ]
  },
  {
   "cell_type": "code",
   "execution_count": 14,
   "metadata": {},
   "outputs": [],
   "source": [
    "# TF-IDF vectorise\n",
    "\n",
    "Tfidf_vect = TfidfVectorizer(max_features=5000)\n",
    "Tfidf_vect.fit(data[\"Document\"])\n",
    "train_x = Tfidf_vect.transform(train_x)\n",
    "test_x = Tfidf_vect.transform(test_x)"
   ]
  },
  {
   "cell_type": "code",
   "execution_count": 15,
   "metadata": {},
   "outputs": [
    {
     "name": "stdout",
     "output_type": "stream",
     "text": [
      "0.6666666666666666 0.5395546907397365 0.10309278350515463\n"
     ]
    }
   ],
   "source": [
    "# Random Forest Predictions\n",
    "random_forest = RandomForestClassifier(max_depth=200, random_state=5)\n",
    "random_forest.fit(train_x,train_y)\n",
    "\n",
    "predictions_random_forest = random_forest.predict(test_x)\n",
    "\n",
    "precision = precision_score(test_y, predictions_random_forest)\n",
    "bac = balanced_accuracy_score(test_y, predictions_random_forest)\n",
    "f2 = fbeta_score(test_y, predictions_random_forest, beta=2.0)\n",
    "\n",
    "print(precision,bac,f2)"
   ]
  },
  {
   "cell_type": "code",
   "execution_count": 16,
   "metadata": {},
   "outputs": [
    {
     "name": "stdout",
     "output_type": "stream",
     "text": [
      "0.8914285714285715 0.5325022235884669 0.08105602286956633\n"
     ]
    }
   ],
   "source": [
    "scoring = {\n",
    "\"f2_score\" : make_scorer(fbeta_score, beta=2.0),\n",
    "\"precision\" : make_scorer(precision_score),\n",
    "\"bal_acc\" : make_scorer(balanced_accuracy_score)\n",
    "}\n",
    "\n",
    "kfold = model_selection.KFold(n_splits=5)\n",
    "random_forest = RandomForestClassifier(max_depth=200, random_state=5)\n",
    "\n",
    "results = model_selection.cross_validate(estimator=random_forest, X=train_x, y=train_y, cv=kfold, scoring=scoring)\n",
    "\n",
    "f2 = np.mean(results['test_f2_score'])\n",
    "precision = np.mean(results['test_precision'])\n",
    "bac = np.mean(results['test_bal_acc'])\n",
    "print(precision,bac,f2)"
   ]
  },
  {
   "cell_type": "code",
   "execution_count": 17,
   "metadata": {},
   "outputs": [
    {
     "name": "stdout",
     "output_type": "stream",
     "text": [
      "0.9366493886230728 0.9932355738080961 0.984544927055703\n"
     ]
    }
   ],
   "source": [
    "over_sampler = RandomOverSampler(random_state=5)\n",
    "balanced_x, balanced_y = over_sampler.fit_resample(train_x, train_y)\n",
    "\n",
    "scoring = {\n",
    "\"f2_score\" : make_scorer(fbeta_score, beta=2.0),\n",
    "\"precision\" : make_scorer(precision_score),\n",
    "\"bal_acc\" : make_scorer(balanced_accuracy_score)\n",
    "}\n",
    "\n",
    "kfold = model_selection.KFold(n_splits=5)\n",
    "random_forest = RandomForestClassifier(max_depth=200, random_state=5)\n",
    "\n",
    "results = model_selection.cross_validate(estimator=random_forest, X=balanced_x, y=balanced_y, cv=kfold, scoring=scoring)\n",
    "\n",
    "f2 = np.mean(results['test_f2_score'])\n",
    "precision = np.mean(results['test_precision'])\n",
    "bac = np.mean(results['test_bal_acc'])\n",
    "print(precision,bac,f2)"
   ]
  }
 ],
 "metadata": {
  "interpreter": {
   "hash": "9c9dd47ef2611d9efe9f0b1f20d661b4cd1c20c359890e6c12241cb78d48ea03"
  },
  "kernelspec": {
   "display_name": "Python 3.9.8 64-bit (windows store)",
   "language": "python",
   "name": "python3"
  },
  "language_info": {
   "codemirror_mode": {
    "name": "ipython",
    "version": 3
   },
   "file_extension": ".py",
   "mimetype": "text/x-python",
   "name": "python",
   "nbconvert_exporter": "python",
   "pygments_lexer": "ipython3",
   "version": "3.9.9"
  },
  "orig_nbformat": 4
 },
 "nbformat": 4,
 "nbformat_minor": 2
}
