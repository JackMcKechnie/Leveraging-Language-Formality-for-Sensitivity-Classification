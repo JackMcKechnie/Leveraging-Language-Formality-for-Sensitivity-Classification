{
 "cells": [
  {
   "cell_type": "code",
   "execution_count": 23,
   "metadata": {},
   "outputs": [],
   "source": [
    "# Imports\n",
    "import pandas as pd\n",
    "import numpy as np\n",
    "from sklearn.feature_extraction.text import TfidfVectorizer\n",
    "from sklearn import model_selection, svm\n",
    "from sklearn.metrics import balanced_accuracy_score\n",
    "from sklearn.metrics import fbeta_score\n",
    "from sklearn.metrics import precision_score\n",
    "from sklearn.metrics import make_scorer\n",
    "from imblearn.under_sampling import RandomUnderSampler\n",
    "from sklearn.ensemble import RandomForestClassifier\n",
    "from imblearn.pipeline import Pipeline, make_pipeline\n",
    "import tensorflow as tf\n",
    "import tensorflow_text as text\n",
    "from sklearn.ensemble import VotingClassifier\n",
    "from sklearn.model_selection import GridSearchCV\n",
    "from sklearn.svm import SVC\n",
    "\n",
    "# Set random seed for reproducability\n",
    "np.random.seed(500)"
   ]
  },
  {
   "cell_type": "code",
   "execution_count": 24,
   "metadata": {},
   "outputs": [],
   "source": [
    "data = pd.read_csv(\"all_formalities_preprocessed.csv\")\n",
    "columns = [\"%.0f\" % number for number in np.arange(0,1337)]\n",
    "train_x, test_x, train_y, test_y = model_selection.train_test_split(data[columns],data['Sensitivity'],test_size=0.2,random_state=5)"
   ]
  },
  {
   "cell_type": "code",
   "execution_count": null,
   "metadata": {},
   "outputs": [],
   "source": [
    "imba_pipeline = make_pipeline(RandomUnderSampler(random_state=42), SVC())\n",
    "\n",
    "params = {'C': [0.1, 1, 10, 100, 1000],\n",
    "              'gamma': [1, 0.1, 0.01, 0.001, 0.0001],\n",
    "              'kernel': ['linear', 'poly', 'rbf', 'sigmoid']}\n",
    "\n",
    "kfold = model_selection.KFold(n_splits=5)\n",
    "\n",
    "new_params = {'svc__' + key: params[key] for key in params}\n",
    "grid_imba = GridSearchCV(imba_pipeline, param_grid=new_params, cv=kfold, scoring='balanced_accuracy', return_train_score=True)\n",
    "\n",
    "grid_imba.fit(train_x, train_y)\n",
    "y_test_predict = grid_imba.best_estimator_.named_steps['svc'].predict(test_x)\n",
    "\n",
    "precision = precision_score(test_y, y_test_predict)\n",
    "bac = balanced_accuracy_score(test_y, y_test_predict)\n",
    "f2 = fbeta_score(test_y, y_test_predict, beta=2.0)\n",
    "print(precision,bac,f2)"
   ]
  },
  {
   "cell_type": "code",
   "execution_count": 25,
   "metadata": {},
   "outputs": [],
   "source": [
    "imba_pipeline = make_pipeline(RandomUnderSampler(random_state=42), SVC(C=10,gamma=0.001,kernel=\"rbf\",probability=True))\n",
    "imba_pipeline.fit(train_x, train_y)\n",
    "formalities_probs = imba_pipeline.predict_proba(test_x)"
   ]
  },
  {
   "cell_type": "code",
   "execution_count": 26,
   "metadata": {},
   "outputs": [],
   "source": [
    "# TF-IDF setup\n",
    "\n",
    "\n",
    "# Load in dataset\n",
    "string_data = pd.read_csv(\"../../data/sensitivity_data/sensitivity_dataset.csv\")\n",
    "string_data = string_data[[\"Filename\",\"Date\",\"Sensitivity\",\"Document\"]]\n",
    "\n",
    "# Train / Test split\n",
    "train_x, test_x, train_y, test_y = model_selection.train_test_split(string_data['Document'],string_data['Sensitivity'],test_size=0.2,random_state=5)\n",
    "\n",
    "Tfidf_vect = TfidfVectorizer(max_features=5000)\n",
    "Tfidf_vect.fit(string_data[\"Document\"])\n",
    "train_x = Tfidf_vect.transform(train_x)\n",
    "test_x = Tfidf_vect.transform(test_x)\n",
    "\n",
    "imba_pipeline = make_pipeline(RandomUnderSampler(random_state=42), SVC(C=1.0, kernel='rbf', gamma=1, probability=True))\n",
    "\n",
    "imba_pipeline.fit(train_x,train_y)\n",
    "tfidf_probs = imba_pipeline.predict_proba(test_x)"
   ]
  },
  {
   "cell_type": "code",
   "execution_count": 35,
   "metadata": {},
   "outputs": [],
   "source": [
    "combined_predictions = []\n",
    "for i in range(len(formalities_probs)):\n",
    "    zero_formalities = formalities_probs[i][0]\n",
    "    one_formalities = formalities_probs[i][1]\n",
    "    zero_tfidf = tfidf_probs[i][0]\n",
    "    one_tfidf = tfidf_probs[i][1]\n",
    "\n",
    "    zero_prob = zero_formalities + zero_tfidf\n",
    "    one_prob = one_formalities + one_tfidf\n",
    "\n",
    "    if zero_prob >=  one_prob:\n",
    "        combined_predictions.append(0)\n",
    "    else:\n",
    "        combined_predictions.append(1)"
   ]
  },
  {
   "cell_type": "code",
   "execution_count": 37,
   "metadata": {},
   "outputs": [],
   "source": [
    "combined_predictions = []\n",
    "for i in range(len(formalities_probs)):\n",
    "    zero_formalities = formalities_probs[i][0]\n",
    "    one_formalities = formalities_probs[i][1]\n",
    "    zero_tfidf = tfidf_probs[i][0]\n",
    "    one_tfidf = tfidf_probs[i][1]\n",
    "\n",
    "    formalities_sureness =  max(formalities_probs[i])\n",
    "    tfidf_sureness = max(tfidf_probs[i])\n",
    "\n",
    "    if formalities_sureness >=  tfidf_sureness:\n",
    "        if zero_formalities >= one_formalities:\n",
    "            combined_predictions.append(0)\n",
    "        else:\n",
    "            combined_predictions.append(1)\n",
    "    else:\n",
    "        if zero_tfidf >= one_tfidf:\n",
    "            combined_predictions.append(0)\n",
    "        else:\n",
    "            combined_predictions.append(1)"
   ]
  },
  {
   "cell_type": "code",
   "execution_count": 38,
   "metadata": {},
   "outputs": [
    {
     "name": "stdout",
     "output_type": "stream",
     "text": [
      "0.26881720430107525 0.7460126319818814 0.5725190839694656\n"
     ]
    }
   ],
   "source": [
    "precision = precision_score(test_y, combined_predictions)\n",
    "bac = balanced_accuracy_score(test_y, combined_predictions)\n",
    "f2 = fbeta_score(test_y, combined_predictions, beta=2.0)\n",
    "print(precision,bac,f2)"
   ]
  }
 ],
 "metadata": {
  "interpreter": {
   "hash": "a2292f7dadeec0b36dafabb7d1d8dd7b9b8b8f0665c515bec64e67bf9650aaf0"
  },
  "kernelspec": {
   "display_name": "Python 3.9.9 64-bit (windows store)",
   "language": "python",
   "name": "python3"
  },
  "language_info": {
   "codemirror_mode": {
    "name": "ipython",
    "version": 3
   },
   "file_extension": ".py",
   "mimetype": "text/x-python",
   "name": "python",
   "nbconvert_exporter": "python",
   "pygments_lexer": "ipython3",
   "version": "3.9.9"
  },
  "orig_nbformat": 4
 },
 "nbformat": 4,
 "nbformat_minor": 2
}
