{
 "cells": [
  {
   "cell_type": "code",
   "execution_count": 4,
   "metadata": {},
   "outputs": [],
   "source": [
    "import pandas as pd\n",
    "from sklearn.feature_extraction.text import TfidfVectorizer\n",
    "from sklearn.cluster import KMeans"
   ]
  },
  {
   "cell_type": "code",
   "execution_count": 5,
   "metadata": {},
   "outputs": [],
   "source": [
    "# Import SQUINKY sentences\n",
    "squinky = pd.read_csv(\"..\\..\\data\\mturk_experiment_2.csv\",encoding=\"unicode escape\")\n",
    "sentences = pd.DataFrame()\n",
    "sentences[\"Sentence\"] = squinky[\"Sentence\"]"
   ]
  },
  {
   "cell_type": "code",
   "execution_count": null,
   "metadata": {},
   "outputs": [],
   "source": [
    "# Clustering\n",
    "vectoriser = TfidfVectorizer()\n",
    "vector = vectoriser.fit_transform(sentences[\"Sentence\"])\n",
    "k = 5\n",
    "model = KMeans(n_clusters=k,init='k-means++',max_iter=200,n_init=10)\n",
    "model.fit(vector)\n",
    "labels = model.labels_.tolist()\n",
    "\n",
    "# Topic modelling\n",
    "\n",
    "vectoriser = CountVectorizer(min_df=20, max_df=0.2, stop_words='english',token_pattern=\"(?u)\\\\b\\\\w\\\\w\\\\w+\\\\b\")\n",
    "X = vectoriser.fit_transform(sentences)\n",
    "corpus = gensim.matutils.Sparse2Corpus(X,documents_columns=False)\n",
    "id_map = dict((v,k) for k,v in vectoriser.vocabulary_.items())\n",
    "ldamodel = gensim.models.LdaMulticore(corpus=corpus, id2word=id_map,passes=2,random_state=5,num_topics=10,workers=2)\n",
    "\n",
    "topic = []\n",
    "\n",
    "for doc in sentences:\n",
    "    X = vectoriser.transform([doc])\n",
    "    corpus = gensim.matutils.Sparse2Corpus(X, documents_columns=False)\n",
    "    output = list(ldamodel[corpus])[0]\n",
    "    topics = sorted(output, key=lambda x: x[1], reverse=True)\n",
    "    topic.append(topics[0][0])"
   ]
  },
  {
   "cell_type": "code",
   "execution_count": 8,
   "metadata": {},
   "outputs": [
    {
     "ename": "NameError",
     "evalue": "name 'sentence' is not defined",
     "output_type": "error",
     "traceback": [
      "\u001b[1;31m---------------------------------------------------------------------------\u001b[0m",
      "\u001b[1;31mNameError\u001b[0m                                 Traceback (most recent call last)",
      "\u001b[1;32m~\\AppData\\Local\\Temp/ipykernel_22684/2369777832.py\u001b[0m in \u001b[0;36m<module>\u001b[1;34m\u001b[0m\n\u001b[0;32m      8\u001b[0m \u001b[0msentences\u001b[0m\u001b[1;33m[\u001b[0m\u001b[1;34m\"Cluster\"\u001b[0m\u001b[1;33m]\u001b[0m \u001b[1;33m=\u001b[0m \u001b[0mlabels\u001b[0m\u001b[1;33m\u001b[0m\u001b[1;33m\u001b[0m\u001b[0m\n\u001b[0;32m      9\u001b[0m \u001b[1;33m\u001b[0m\u001b[0m\n\u001b[1;32m---> 10\u001b[1;33m \u001b[0msentence\u001b[0m\u001b[1;33m\u001b[0m\u001b[1;33m\u001b[0m\u001b[0m\n\u001b[0m",
      "\u001b[1;31mNameError\u001b[0m: name 'sentence' is not defined"
     ]
    }
   ],
   "source": [
    "sentences[\"Cluster\"] = labels\n",
    "sentences[\"Topic\"] = topic\n",
    "\n",
    "sentences"
   ]
  }
 ],
 "metadata": {
  "interpreter": {
   "hash": "a2292f7dadeec0b36dafabb7d1d8dd7b9b8b8f0665c515bec64e67bf9650aaf0"
  },
  "kernelspec": {
   "display_name": "Python 3.9.7 64-bit (windows store)",
   "name": "python3"
  },
  "language_info": {
   "codemirror_mode": {
    "name": "ipython",
    "version": 3
   },
   "file_extension": ".py",
   "mimetype": "text/x-python",
   "name": "python",
   "nbconvert_exporter": "python",
   "pygments_lexer": "ipython3",
   "version": "3.9.7"
  },
  "orig_nbformat": 4
 },
 "nbformat": 4,
 "nbformat_minor": 2
}
