{
 "cells": [
  {
   "cell_type": "code",
   "execution_count": 37,
   "metadata": {},
   "outputs": [],
   "source": [
    "# Imports\n",
    "import pandas as pd\n",
    "from sklearn.model_selection import KFold\n",
    "from sklearn.model_selection import train_test_split\n",
    "from sklearn import linear_model\n",
    "from sklearn.model_selection import cross_validate\n",
    "from sklearn.preprocessing import scale"
   ]
  },
  {
   "cell_type": "code",
   "execution_count": 38,
   "metadata": {},
   "outputs": [],
   "source": [
    "# Import data\n",
    "data = pd.read_csv(\"data/mturk_experiment_2.csv\",encoding='unicode_escape')\n",
    "feature_names = [\"Informativeness\",\"Implicature\",\"Length in Words\",\"Length in Characters\",\"F-score\",\"I-score\",\"Lexical Density\"]\n",
    "features = data[feature_names]\n",
    "target = data[\"Formality\"]\n",
    "\n",
    "X_train, X_test, y_train, y_test = train_test_split(features, target, test_size=0.2, random_state=1)"
   ]
  },
  {
   "cell_type": "code",
   "execution_count": 39,
   "metadata": {},
   "outputs": [],
   "source": [
    "# Set up K-Folds and scoring\n",
    "cv = KFold(n_splits=10, random_state=1, shuffle=True)\n",
    "scoring = [\"r2\",\"neg_mean_squared_error\",\"neg_median_absolute_error\",\"max_error\"]\n"
   ]
  },
  {
   "cell_type": "code",
   "execution_count": 40,
   "metadata": {},
   "outputs": [
    {
     "data": {
      "text/plain": [
       "{'fit_time': array([0.00300765, 0.00200057, 0.0028007 , 0.00212383, 0.00191236,\n",
       "        0.00250483, 0.00214124, 0.00256228, 0.00199795, 0.00187564]),\n",
       " 'score_time': array([0.00171018, 0.00200033, 0.00100183, 0.00211859, 0.0019989 ,\n",
       "        0.00224471, 0.00102305, 0.00208235, 0.00200915, 0.00100255]),\n",
       " 'test_r2': array([0.56952603, 0.55882205, 0.60617977, 0.56048608, 0.51722343,\n",
       "        0.5980286 , 0.57403479, 0.57344594, 0.56994064, 0.5237644 ]),\n",
       " 'test_neg_mean_squared_error': array([-0.54095146, -0.57153626, -0.50594363, -0.54133643, -0.61174158,\n",
       "        -0.53110344, -0.53931864, -0.5373336 , -0.54752164, -0.56809796]),\n",
       " 'test_neg_median_absolute_error': array([-0.49650966, -0.50503012, -0.46680883, -0.51525232, -0.52758131,\n",
       "        -0.50007299, -0.50717377, -0.5307477 , -0.49320295, -0.49973068]),\n",
       " 'test_max_error': array([-2.35355525, -2.32769382, -2.67951447, -2.48484071, -3.83554137,\n",
       "        -2.32437554, -2.89797341, -2.5579469 , -3.9928348 , -2.72826249])}"
      ]
     },
     "execution_count": 40,
     "metadata": {},
     "output_type": "execute_result"
    }
   ],
   "source": [
    "# Linear regression\n",
    "lin_reg = linear_model.LinearRegression()\n",
    "lin_reg_scores = cross_validate(lin_reg, X_train, y_train, cv=cv,scoring=scoring)\n",
    "lin_reg_scores"
   ]
  },
  {
   "cell_type": "code",
   "execution_count": 41,
   "metadata": {},
   "outputs": [
    {
     "data": {
      "text/plain": [
       "{'fit_time': array([0.00200105, 0.00199175, 0.00283861, 0.00289178, 0.00201988,\n",
       "        0.00202584, 0.00299335, 0.00315595, 0.00200057, 0.0019989 ]),\n",
       " 'score_time': array([0.00200891, 0.00199842, 0.00100493, 0.00199723, 0.00104666,\n",
       "        0.00099611, 0.00191784, 0.00099301, 0.00106692, 0.00103426]),\n",
       " 'test_r2': array([0.56952546, 0.55882348, 0.60618161, 0.56049061, 0.51721175,\n",
       "        0.59803064, 0.57403306, 0.57344741, 0.56993484, 0.52377141]),\n",
       " 'test_neg_mean_squared_error': array([-0.54095217, -0.57153442, -0.50594127, -0.54133085, -0.61175638,\n",
       "        -0.53110074, -0.53932083, -0.53733175, -0.54752903, -0.56808961]),\n",
       " 'test_neg_median_absolute_error': array([-0.49638495, -0.50501619, -0.46664425, -0.51530712, -0.52755323,\n",
       "        -0.50000561, -0.50735819, -0.5306824 , -0.49333987, -0.49979055]),\n",
       " 'test_max_error': array([-2.35370572, -2.32766362, -2.67946116, -2.48527297, -3.83634624,\n",
       "        -2.32432166, -2.89802728, -2.55790846, -3.99380597, -2.72813104])}"
      ]
     },
     "execution_count": 41,
     "metadata": {},
     "output_type": "execute_result"
    }
   ],
   "source": [
    "# Ridge regression\n",
    "ridge_reg = linear_model.Ridge()\n",
    "ridge_reg_scores = cross_validate(ridge_reg, X_train, y_train, cv=cv,scoring=scoring)\n",
    "ridge_reg_scores"
   ]
  },
  {
   "cell_type": "code",
   "execution_count": 42,
   "metadata": {},
   "outputs": [
    {
     "data": {
      "text/plain": [
       "{'fit_time': array([0.00400138, 0.00202584, 0.00187111, 0.00235415, 0.00307655,\n",
       "        0.00291443, 0.00189257, 0.00268435, 0.00297666, 0.00218558]),\n",
       " 'score_time': array([0.00305343, 0.00099468, 0.00199986, 0.00100398, 0.00100756,\n",
       "        0.00100541, 0.00212145, 0.00100255, 0.0010078 , 0.00200963]),\n",
       " 'test_r2': array([0.27301323, 0.3122612 , 0.37413842, 0.30872804, 0.16829899,\n",
       "        0.35658596, 0.30606951, 0.32101272, 0.29013334, 0.29119036]),\n",
       " 'test_neg_mean_squared_error': array([-0.91356174, -0.89095038, -0.80404881, -0.85141944, -1.05387485,\n",
       "        -0.85010875, -0.87859205, -0.85532576, -0.90375283, -0.84553384]),\n",
       " 'test_neg_median_absolute_error': array([-0.65066255, -0.69573015, -0.63155322, -0.66661358, -0.65491924,\n",
       "        -0.6756198 , -0.67895819, -0.67173617, -0.63259848, -0.66627669]),\n",
       " 'test_max_error': array([-5.18173449, -2.92254797, -2.67152116, -3.44544451, -6.56841734,\n",
       "        -2.86457109, -3.49835304, -2.56308821, -5.96159889, -2.47514507])}"
      ]
     },
     "execution_count": 42,
     "metadata": {},
     "output_type": "execute_result"
    }
   ],
   "source": [
    "# Lasso regression\n",
    "lasso_reg = linear_model.Lasso()\n",
    "lasso_reg_scores = cross_validate(lasso_reg, X_train, y_train, cv=cv,scoring=scoring)\n",
    "lasso_reg_scores"
   ]
  },
  {
   "cell_type": "code",
   "execution_count": 43,
   "metadata": {},
   "outputs": [
    {
     "data": {
      "text/plain": [
       "{'fit_time': array([0.00339746, 0.00300169, 0.00200009, 0.00129724, 0.00235772,\n",
       "        0.00299931, 0.00299883, 0.00200033, 0.00184369, 0.00299835]),\n",
       " 'score_time': array([0.00099969, 0.00099945, 0.00099993, 0.00100994, 0.00231218,\n",
       "        0.00200129, 0.00100017, 0.00108337, 0.00301027, 0.00110865]),\n",
       " 'test_r2': array([0.27301312, 0.31226127, 0.37413918, 0.30872804, 0.16829878,\n",
       "        0.35658603, 0.30606955, 0.32101276, 0.29013331, 0.29119033]),\n",
       " 'test_neg_mean_squared_error': array([-0.91356189, -0.8909503 , -0.80404783, -0.85141944, -1.05387512,\n",
       "        -0.85010867, -0.878592  , -0.85532572, -0.90375287, -0.84553387]),\n",
       " 'test_neg_median_absolute_error': array([-0.65066312, -0.69572917, -0.63155849, -0.66661341, -0.65491856,\n",
       "        -0.67561988, -0.67895844, -0.67173572, -0.6325981 , -0.66627659]),\n",
       " 'test_max_error': array([-5.1817407 , -2.92254834, -2.67151327, -3.44544646, -6.56842452,\n",
       "        -2.86457367, -3.49835438, -2.5630891 , -5.9616025 , -2.47514421])}"
      ]
     },
     "execution_count": 43,
     "metadata": {},
     "output_type": "execute_result"
    }
   ],
   "source": [
    "# LARS Lasso\n",
    "lars_lasso_reg = linear_model.LassoLars(normalize=False)\n",
    "lars_lasso_reg_scores = cross_validate(lars_lasso_reg, X_train, y_train, cv=cv,scoring=scoring)\n",
    "lars_lasso_reg_scores"
   ]
  },
  {
   "cell_type": "code",
   "execution_count": 44,
   "metadata": {},
   "outputs": [
    {
     "data": {
      "text/plain": [
       "{'fit_time': array([0.00400138, 0.00302792, 0.00300026, 0.00199127, 0.00199723,\n",
       "        0.00198054, 0.00303698, 0.00210023, 0.00244832, 0.00299811]),\n",
       " 'score_time': array([0.0023849 , 0.00200129, 0.00200701, 0.00101089, 0.00187492,\n",
       "        0.00200891, 0.00079584, 0.00200176, 0.00202632, 0.00099969]),\n",
       " 'test_r2': array([0.56951939, 0.55883407, 0.60619587, 0.56052689, 0.51711185,\n",
       "        0.59804647, 0.5740173 , 0.57345848, 0.56988434, 0.52382791]),\n",
       " 'test_neg_mean_squared_error': array([-0.5409598 , -0.57152069, -0.50592296, -0.54128617, -0.61188296,\n",
       "        -0.53107983, -0.53934079, -0.53731781, -0.54759333, -0.56802221]),\n",
       " 'test_neg_median_absolute_error': array([-0.49533888, -0.50490027, -0.46849362, -0.5157628 , -0.52731069,\n",
       "        -0.49944142, -0.50805326, -0.52946868, -0.49368968, -0.5002839 ]),\n",
       " 'test_max_error': array([-2.35496824, -2.32741272, -2.67901193, -2.48886817, -3.84312076,\n",
       "        -2.32387064, -2.89848025, -2.55758673, -4.00201798, -2.72704767])}"
      ]
     },
     "execution_count": 44,
     "metadata": {},
     "output_type": "execute_result"
    }
   ],
   "source": [
    "# Bayesian Ridge Regression\n",
    "bayesian_ridge_reg = linear_model.BayesianRidge()\n",
    "bayesian_ridge_reg_scores = cross_validate(bayesian_ridge_reg, X_train, y_train, cv=cv,scoring=scoring)\n",
    "bayesian_ridge_reg_scores"
   ]
  },
  {
   "cell_type": "code",
   "execution_count": 45,
   "metadata": {},
   "outputs": [
    {
     "data": {
      "text/plain": [
       "{'fit_time': array([0.00286937, 0.00408959, 0.00407577, 0.00199199, 0.00204873,\n",
       "        0.00302815, 0.00299382, 0.00206089, 0.00200629, 0.00258636]),\n",
       " 'score_time': array([0.00099826, 0.00090718, 0.        , 0.        , 0.00155306,\n",
       "        0.00101495, 0.00099993, 0.00100636, 0.00098801, 0.00105929]),\n",
       " 'test_r2': array([0.55693435, 0.55163392, 0.607632  , 0.55692276, 0.51502507,\n",
       "        0.59811055, 0.57162308, 0.57124488, 0.57394347, 0.51885525]),\n",
       " 'test_neg_mean_squared_error': array([-0.43960985, -0.45861755, -0.39800234, -0.43088561, -0.4852092 ,\n",
       "        -0.41925524, -0.42823809, -0.42644906, -0.42828025, -0.45317408]),\n",
       " 'test_neg_median_absolute_error': array([-0.45113999, -0.44862959, -0.42795718, -0.45232883, -0.48390327,\n",
       "        -0.44177114, -0.44649775, -0.46483418, -0.44630656, -0.45345424]),\n",
       " 'test_max_error': array([-2.14211644, -2.1416072 , -2.26869216, -2.13680093, -2.9522707 ,\n",
       "        -2.11986156, -2.43322742, -2.24456492, -2.5541559 , -2.38596122])}"
      ]
     },
     "execution_count": 45,
     "metadata": {},
     "output_type": "execute_result"
    }
   ],
   "source": [
    "# Stochastic Gradient Descent Regression\n",
    "sgd_reg = linear_model.SGDRegressor()\n",
    "sgd_reg_scores = cross_validate(sgd_reg, scale(X_train), scale(y_train), cv=cv,scoring=scoring)\n",
    "sgd_reg_scores"
   ]
  },
  {
   "cell_type": "code",
   "execution_count": 48,
   "metadata": {},
   "outputs": [
    {
     "data": {
      "text/html": [
       "<div>\n",
       "<style scoped>\n",
       "    .dataframe tbody tr th:only-of-type {\n",
       "        vertical-align: middle;\n",
       "    }\n",
       "\n",
       "    .dataframe tbody tr th {\n",
       "        vertical-align: top;\n",
       "    }\n",
       "\n",
       "    .dataframe thead th {\n",
       "        text-align: right;\n",
       "    }\n",
       "</style>\n",
       "<table border=\"1\" class=\"dataframe\">\n",
       "  <thead>\n",
       "    <tr style=\"text-align: right;\">\n",
       "      <th></th>\n",
       "      <th>R Squared</th>\n",
       "      <th>Negative Mean Squared Error</th>\n",
       "      <th>Negative Mean Absolute Error</th>\n",
       "      <th>Max Error</th>\n",
       "    </tr>\n",
       "  </thead>\n",
       "  <tbody>\n",
       "    <tr>\n",
       "      <th>Linear Regression</th>\n",
       "      <td>0.565145</td>\n",
       "      <td>-0.549488</td>\n",
       "      <td>-0.504211</td>\n",
       "      <td>-2.818254</td>\n",
       "    </tr>\n",
       "    <tr>\n",
       "      <th>Ridge Regression</th>\n",
       "      <td>0.565145</td>\n",
       "      <td>-0.549489</td>\n",
       "      <td>-0.504208</td>\n",
       "      <td>-2.818464</td>\n",
       "    </tr>\n",
       "    <tr>\n",
       "      <th>Lasso Regression</th>\n",
       "      <td>0.300143</td>\n",
       "      <td>-0.884717</td>\n",
       "      <td>-0.662467</td>\n",
       "      <td>-3.815242</td>\n",
       "    </tr>\n",
       "    <tr>\n",
       "      <th>LARS Lasso Regression</th>\n",
       "      <td>0.300143</td>\n",
       "      <td>-0.884717</td>\n",
       "      <td>-0.662467</td>\n",
       "      <td>-3.815244</td>\n",
       "    </tr>\n",
       "    <tr>\n",
       "      <th>Bayesian Ridge Regression</th>\n",
       "      <td>0.565142</td>\n",
       "      <td>-0.549493</td>\n",
       "      <td>-0.504274</td>\n",
       "      <td>-2.820239</td>\n",
       "    </tr>\n",
       "    <tr>\n",
       "      <th>Stochastic Gradient Descent Regression</th>\n",
       "      <td>0.562193</td>\n",
       "      <td>-0.436772</td>\n",
       "      <td>-0.451682</td>\n",
       "      <td>-2.337926</td>\n",
       "    </tr>\n",
       "  </tbody>\n",
       "</table>\n",
       "</div>"
      ],
      "text/plain": [
       "                                        R Squared  \\\n",
       "Linear Regression                        0.565145   \n",
       "Ridge Regression                         0.565145   \n",
       "Lasso Regression                         0.300143   \n",
       "LARS Lasso Regression                    0.300143   \n",
       "Bayesian Ridge Regression                0.565142   \n",
       "Stochastic Gradient Descent Regression   0.562193   \n",
       "\n",
       "                                        Negative Mean Squared Error  \\\n",
       "Linear Regression                                         -0.549488   \n",
       "Ridge Regression                                          -0.549489   \n",
       "Lasso Regression                                          -0.884717   \n",
       "LARS Lasso Regression                                     -0.884717   \n",
       "Bayesian Ridge Regression                                 -0.549493   \n",
       "Stochastic Gradient Descent Regression                    -0.436772   \n",
       "\n",
       "                                        Negative Mean Absolute Error  \\\n",
       "Linear Regression                                          -0.504211   \n",
       "Ridge Regression                                           -0.504208   \n",
       "Lasso Regression                                           -0.662467   \n",
       "LARS Lasso Regression                                      -0.662467   \n",
       "Bayesian Ridge Regression                                  -0.504274   \n",
       "Stochastic Gradient Descent Regression                     -0.451682   \n",
       "\n",
       "                                        Max Error  \n",
       "Linear Regression                       -2.818254  \n",
       "Ridge Regression                        -2.818464  \n",
       "Lasso Regression                        -3.815242  \n",
       "LARS Lasso Regression                   -3.815244  \n",
       "Bayesian Ridge Regression               -2.820239  \n",
       "Stochastic Gradient Descent Regression  -2.337926  "
      ]
     },
     "execution_count": 48,
     "metadata": {},
     "output_type": "execute_result"
    }
   ],
   "source": [
    "# Table function\n",
    "def make_scores(scores):\n",
    "    temp = pd.DataFrame()\n",
    "    out = pd.DataFrame()\n",
    "    temp[\"R Squared\"] = scores[\"test_r2\"]\n",
    "    temp[\"Negative Mean Squared Error\"] = scores[\"test_neg_mean_squared_error\"]\n",
    "    temp[\"Negative Mean Absolute Error\"] = scores[\"test_neg_median_absolute_error\"]\n",
    "    temp[\"Max Error\"] = scores[\"test_max_error\"]\n",
    "    r2 = (temp[\"R Squared\"].sum()/10)\n",
    "    neg_mse = (temp[\"Negative Mean Squared Error\"].sum()/10)\n",
    "    neg_mae = (temp[\"Negative Mean Absolute Error\"].sum()/10)\n",
    "    max_err = (temp[\"Max Error\"].sum()/10)\n",
    "    out = [r2,neg_mse,neg_mae,max_err]\n",
    "    return out\n",
    "\n",
    "# Gather together table\n",
    "\n",
    "table = pd.DataFrame()\n",
    "\n",
    "table[\"Linear Regression\"] = make_scores(lin_reg_scores)\n",
    "table[\"Ridge Regression\"] = make_scores(ridge_reg_scores)\n",
    "table[\"Lasso Regression\"] = make_scores(lasso_reg_scores)\n",
    "table[\"LARS Lasso Regression\"] = make_scores(lars_lasso_reg_scores)\n",
    "table[\"Bayesian Ridge Regression\"] = make_scores(bayesian_ridge_reg_scores)\n",
    "table[\"Stochastic Gradient Descent Regression\"] = make_scores(sgd_reg_scores)\n",
    "\n",
    "\n",
    "table = table.T\n",
    "column_names = [\"R Squared\",\"Negative Mean Squared Error\",\"Negative Mean Absolute Error\",\"Max Error\"]\n",
    "table.columns = column_names\n",
    "\n",
    "table\n",
    "#table.to_csv(\"Baseline Comparisons.csv\")"
   ]
  }
 ],
 "metadata": {
  "interpreter": {
   "hash": "a2292f7dadeec0b36dafabb7d1d8dd7b9b8b8f0665c515bec64e67bf9650aaf0"
  },
  "kernelspec": {
   "display_name": "Python 3.9.7 64-bit (windows store)",
   "name": "python3"
  },
  "language_info": {
   "codemirror_mode": {
    "name": "ipython",
    "version": 3
   },
   "file_extension": ".py",
   "mimetype": "text/x-python",
   "name": "python",
   "nbconvert_exporter": "python",
   "pygments_lexer": "ipython3",
   "version": "3.9.7"
  },
  "orig_nbformat": 4
 },
 "nbformat": 4,
 "nbformat_minor": 2
}
