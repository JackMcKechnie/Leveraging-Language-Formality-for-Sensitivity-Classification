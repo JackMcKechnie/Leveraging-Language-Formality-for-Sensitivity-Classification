{
 "cells": [
  {
   "cell_type": "code",
   "execution_count": 22,
   "source": [
    "#Imports\r\n",
    "import pandas as pd\r\n",
    "from sklearn.model_selection import train_test_split\r\n",
    "from sklearn.neural_network import MLPRegressor"
   ],
   "outputs": [],
   "metadata": {}
  },
  {
   "cell_type": "code",
   "execution_count": 19,
   "source": [
    "# Import and sort out data\r\n",
    "data = pd.read_csv(\"data\\mturk_experiment_2.csv\",encoding = 'unicode_escape')\r\n",
    "feature_names = [\"Informativeness\",\"Implicature\",\"Length in Words\",\"Length in Characters\",\"F-score\",\"I-score\",\"Lexical Density\"]\r\n",
    "X = data[feature_names]\r\n",
    "y = data[\"Formality\"]"
   ],
   "outputs": [],
   "metadata": {}
  },
  {
   "cell_type": "code",
   "execution_count": 20,
   "source": [
    "#Split data\r\n",
    "X_train, X_test, y_train, y_test = train_test_split(X,y,random_state=1)"
   ],
   "outputs": [],
   "metadata": {}
  },
  {
   "cell_type": "code",
   "execution_count": 88,
   "source": [
    "#Perform regression\r\n",
    "regr = MLPRegressor(random_state=1, max_iter=1000,learning_rate_init=0.00001)\r\n",
    "model = regr.fit(X_train, y_train)\r\n",
    "predictions = regr.predict(X_test)\r\n",
    "regr.score(X_test,y_test)"
   ],
   "outputs": [
    {
     "output_type": "execute_result",
     "data": {
      "text/plain": [
       "0.5717048408004736"
      ]
     },
     "metadata": {},
     "execution_count": 88
    }
   ],
   "metadata": {}
  }
 ],
 "metadata": {
  "orig_nbformat": 4,
  "language_info": {
   "name": "python",
   "version": "3.9.7",
   "mimetype": "text/x-python",
   "codemirror_mode": {
    "name": "ipython",
    "version": 3
   },
   "pygments_lexer": "ipython3",
   "nbconvert_exporter": "python",
   "file_extension": ".py"
  },
  "kernelspec": {
   "name": "python3",
   "display_name": "Python 3.9.7 64-bit (windows store)"
  },
  "interpreter": {
   "hash": "a2292f7dadeec0b36dafabb7d1d8dd7b9b8b8f0665c515bec64e67bf9650aaf0"
  }
 },
 "nbformat": 4,
 "nbformat_minor": 2
}