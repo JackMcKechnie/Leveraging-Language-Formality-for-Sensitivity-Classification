{
 "cells": [
  {
   "cell_type": "code",
   "execution_count": 2,
   "source": [
    "#Imports\r\n",
    "import pandas as pd\r\n",
    "import textstat"
   ],
   "outputs": [],
   "metadata": {}
  },
  {
   "cell_type": "code",
   "execution_count": 3,
   "source": [
    "data = pd.read_csv(\"data\\mturk_experiment_2.csv\",encoding = 'unicode_escape')"
   ],
   "outputs": [],
   "metadata": {}
  },
  {
   "cell_type": "code",
   "execution_count": 4,
   "source": [
    "#Add readability level\r\n",
    "\r\n",
    "readability = []\r\n",
    "\r\n",
    "for sentence in data[\"Sentence\"]:\r\n",
    "    readability.append(textstat.text_standard(sentence,float_output=True))\r\n",
    "\r\n",
    "data[\"Readability\"] = readability"
   ],
   "outputs": [],
   "metadata": {}
  },
  {
   "cell_type": "code",
   "execution_count": 8,
   "source": [
    "fk_level = []\r\n",
    "\r\n",
    "for sentence in data[\"Sentence\"]:\r\n",
    "    fk_level.append(textstat.flesch_kincaid_grade(sentence))\r\n",
    "\r\n",
    "data[\"Flesch-Kincaid\"] = fk_level"
   ],
   "outputs": [],
   "metadata": {}
  },
  {
   "cell_type": "code",
   "execution_count": null,
   "source": [],
   "outputs": [],
   "metadata": {}
  }
 ],
 "metadata": {
  "orig_nbformat": 4,
  "language_info": {
   "name": "python",
   "version": "3.9.7",
   "mimetype": "text/x-python",
   "codemirror_mode": {
    "name": "ipython",
    "version": 3
   },
   "pygments_lexer": "ipython3",
   "nbconvert_exporter": "python",
   "file_extension": ".py"
  },
  "kernelspec": {
   "name": "python3",
   "display_name": "Python 3.9.7 64-bit (windows store)"
  },
  "interpreter": {
   "hash": "a2292f7dadeec0b36dafabb7d1d8dd7b9b8b8f0665c515bec64e67bf9650aaf0"
  }
 },
 "nbformat": 4,
 "nbformat_minor": 2
}