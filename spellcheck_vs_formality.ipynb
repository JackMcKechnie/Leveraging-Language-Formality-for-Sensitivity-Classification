{
 "cells": [
  {
   "cell_type": "code",
   "execution_count": 76,
   "source": [
    "#Imports\r\n",
    "import pandas as pd\r\n",
    "from spellchecker import SpellChecker\r\n",
    "from nltk.tokenize import TweetTokenizer\r\n",
    "import matplotlib.pyplot as plt\r\n",
    "import numpy as np"
   ],
   "outputs": [],
   "metadata": {}
  },
  {
   "cell_type": "code",
   "execution_count": 77,
   "source": [
    "#Read in data\r\n",
    "data = pd.read_csv(\"data\\mturk_experiment_2.csv\",encoding = 'unicode_escape')"
   ],
   "outputs": [],
   "metadata": {}
  },
  {
   "cell_type": "code",
   "execution_count": 78,
   "source": [
    "#Get spellcheck count\r\n",
    "spell = SpellChecker()\r\n",
    "tokeniser = TweetTokenizer()\r\n",
    "mispelled_totals = []\r\n",
    "mispelled_percent = []\r\n",
    "\r\n",
    "for sentence in data[\"Sentence\"]:\r\n",
    "    tokenised = tokeniser.tokenize(sentence)\r\n",
    "    misspelled = spell.unknown(tokenised)\r\n",
    "    mispelled_totals.append(len(misspelled))\r\n",
    "\r\n",
    "data[\"Spelling Errors\"] = mispelled_totals    \r\n"
   ],
   "outputs": [],
   "metadata": {}
  },
  {
   "cell_type": "code",
   "execution_count": 79,
   "source": [
    "#Get spellcheck percentage\r\n",
    "data[\"Spelling Error Percentage\"] = (data[\"Spelling Errors\"] / data[\"Length in Words\"]) * 100"
   ],
   "outputs": [],
   "metadata": {}
  },
  {
   "cell_type": "code",
   "execution_count": 80,
   "source": [
    "#Make plot\r\n",
    "y = data[\"Formality\"]\r\n",
    "x = data[\"Spelling Error Percentage\"]\r\n",
    "x_ticks = np.arange(0,7.1,0.1)\r\n",
    "y_ticks = np.arange(0,100.1,5)\r\n",
    "\r\n",
    "m,b = np.polyfit(x,y,1)\r\n",
    "plt.plot(x,y,'o')\r\n",
    "plt.plot(x,m*x + b)\r\n"
   ],
   "outputs": [
    {
     "output_type": "execute_result",
     "data": {
      "text/plain": [
       "[<matplotlib.lines.Line2D at 0x1c6d5e98b80>]"
      ]
     },
     "metadata": {},
     "execution_count": 80
    },
    {
     "output_type": "display_data",
     "data": {
      "image/png": "[encoded data removed]",
      "text/plain": [
       "<Figure size 432x288 with 1 Axes>"
      ]
     },
     "metadata": {
      "needs_background": "light"
     }
    }
   ],
   "metadata": {}
  },
  {
   "cell_type": "code",
   "execution_count": 81,
   "source": [
    "#0-0.3 indicates a negligble correlation \r\n",
    "correlation = data[\"Formality\"].corr(data[\"Spelling Error Percentage\"])\r\n",
    "correlation"
   ],
   "outputs": [
    {
     "output_type": "execute_result",
     "data": {
      "text/plain": [
       "-0.1029006475722433"
      ]
     },
     "metadata": {},
     "execution_count": 81
    }
   ],
   "metadata": {}
  }
 ],
 "metadata": {
  "orig_nbformat": 4,
  "language_info": {
   "name": "python",
   "version": "3.9.7",
   "mimetype": "text/x-python",
   "codemirror_mode": {
    "name": "ipython",
    "version": 3
   },
   "pygments_lexer": "ipython3",
   "nbconvert_exporter": "python",
   "file_extension": ".py"
  },
  "kernelspec": {
   "name": "python3",
   "display_name": "Python 3.9.7 64-bit (windows store)"
  },
  "interpreter": {
   "hash": "a2292f7dadeec0b36dafabb7d1d8dd7b9b8b8f0665c515bec64e67bf9650aaf0"
  }
 },
 "nbformat": 4,
 "nbformat_minor": 2
}